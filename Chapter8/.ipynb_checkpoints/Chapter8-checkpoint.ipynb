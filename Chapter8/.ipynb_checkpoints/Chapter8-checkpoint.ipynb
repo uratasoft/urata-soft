{
 "cells": [
  {
   "cell_type": "markdown",
   "metadata": {},
   "source": [
    "リスト8.1 秘密鍵の生成（実行のたびに結果は変わります）"
   ]
  },
  {
   "cell_type": "code",
   "execution_count": 1,
   "metadata": {},
   "outputs": [
    {
     "name": "stdout",
     "output_type": "stream",
     "text": [
      "b'\\xfa\\x8c\\x91\\xec\\x03\\x08\\xd4\\x86\\xf6\\x07\\x92$f\\r5w\\xb8\\x02\\x9fy:CH?Y\\xb1{\\x9e\\xfa_8\\x87'\n",
      "b'fa8c91ec0308d486f6079224660d3577b8029f793a43483f59b17b9efa5f3887'\n"
     ]
    }
   ],
   "source": [
    "import os\n",
    "import binascii\n",
    "\n",
    "private_key = os.urandom(32)\n",
    "\n",
    "print(private_key)\n",
    "print(binascii.hexlify(private_key))"
   ]
  },
  {
   "cell_type": "markdown",
   "metadata": {},
   "source": [
    "リスト8.2 公開鍵の生成（実行のたびに結果は変わります）"
   ]
  },
  {
   "cell_type": "code",
   "execution_count": 2,
   "metadata": {},
   "outputs": [
    {
     "name": "stdout",
     "output_type": "stream",
     "text": [
      "b'f9c98b74cdaa5297ccb864868e7cc49870efd509b32b02c9c35a9433ef37c695'\n",
      "b'd2b05364bd17178c815857dcfe41b16b60ac47c2980b485ccbb883bfe8720e5cb97da83a401fe236ed4c1f565737ee617b9f05ff49e4459922a50d75be3a3ead'\n"
     ]
    }
   ],
   "source": [
    "import os\n",
    "import ecdsa\n",
    "import binascii\n",
    "\n",
    "private_key = os.urandom(32)\n",
    "public_key = ecdsa.SigningKey.from_string(private_key, curve=ecdsa.SECP256k1).verifying_key.to_string()\n",
    "\n",
    "print(binascii.hexlify(private_key))\n",
    "print(binascii.hexlify(public_key))"
   ]
  },
  {
   "cell_type": "markdown",
   "metadata": {},
   "source": [
    "リスト8.3 楕円曲線暗号の利用（実行のたびに結果は変わります）"
   ]
  },
  {
   "cell_type": "code",
   "execution_count": 3,
   "metadata": {},
   "outputs": [
    {
     "data": {
      "text/plain": [
       "b'\\xd2\\xb0Sd\\xbd\\x17\\x17\\x8c\\x81XW\\xdc\\xfeA\\xb1k`\\xacG\\xc2\\x98\\x0bH\\\\\\xcb\\xb8\\x83\\xbf\\xe8r\\x0e\\\\\\xb9}\\xa8:@\\x1f\\xe26\\xedL\\x1fVW7\\xeea{\\x9f\\x05\\xffI\\xe4E\\x99\"\\xa5\\ru\\xbe:>\\xad'"
      ]
     },
     "execution_count": 3,
     "metadata": {},
     "output_type": "execute_result"
    }
   ],
   "source": [
    "ecdsa.SigningKey.from_string(private_key,curve=ecdsa.SECP256k1).verifying_key.to_string()"
   ]
  },
  {
   "cell_type": "markdown",
   "metadata": {},
   "source": [
    "リスト8.4 圧縮公開鍵の生成（実行のたびに結果は変わります）"
   ]
  },
  {
   "cell_type": "code",
   "execution_count": 4,
   "metadata": {},
   "outputs": [
    {
     "name": "stdout",
     "output_type": "stream",
     "text": [
      "b'7fe53dcdd869e6896dbbb2a49680905b58b1e737362afbd7a475a264bac2e32a6351edab9691b1a96a5193ac3e613bc1e6fbc4feb105e9e4173b001c742431e4'\n",
      "b'027fe53dcdd869e6896dbbb2a49680905b58b1e737362afbd7a475a264bac2e32a'\n"
     ]
    }
   ],
   "source": [
    "import os\n",
    "import ecdsa\n",
    "import binascii\n",
    "\n",
    "private_key = os.urandom(32)\n",
    "public_key = ecdsa.SigningKey.from_string(private_key, curve=ecdsa.SECP256k1).verifying_key.to_string()\n",
    "\n",
    "# y座標を取り出す\n",
    "public_key_y = int.from_bytes(public_key[32:], \"big\")\n",
    "# 圧縮公開鍵を生成\n",
    "if public_key_y % 2 == 0:\n",
    "    public_key_compressed = b\"\\x02\" + public_key[:32]\n",
    "else:\n",
    "    public_key_compressed = b\"\\x03\" + public_key[:32]\n",
    "\n",
    "print(binascii.hexlify(public_key))\n",
    "print(binascii.hexlify(public_key_compressed))"
   ]
  },
  {
   "cell_type": "markdown",
   "metadata": {},
   "source": [
    "リスト8.5 アドレスの生成（実行のたびに結果は変わります）"
   ]
  },
  {
   "cell_type": "code",
   "execution_count": 5,
   "metadata": {},
   "outputs": [
    {
     "name": "stdout",
     "output_type": "stream",
     "text": [
      "1JAqTu3MZM4jmT5uWVPPAi1r2dis9hVLgD\n"
     ]
    }
   ],
   "source": [
    "import os\n",
    "import ecdsa\n",
    "import hashlib\n",
    "import base58\n",
    "\n",
    "private_key = os.urandom(32)\n",
    "public_key = ecdsa.SigningKey.from_string(private_key, curve=ecdsa.SECP256k1).verifying_key.to_string()\n",
    "\n",
    "prefix_and_pubkey = b\"\\x04\" + public_key\n",
    "\n",
    "intermediate = hashlib.sha256(prefix_and_pubkey).digest()\n",
    "ripemd160 = hashlib.new('ripemd160')\n",
    "ripemd160.update(intermediate)\n",
    "hash160 = ripemd160.digest()\n",
    "\n",
    "prefix_and_hash160 = b\"\\x00\" + hash160\n",
    "\n",
    "# hashlib.sha256が入れ子になっていることを確認！\n",
    "double_hash = hashlib.sha256(hashlib.sha256(prefix_and_hash160).digest()).digest()\n",
    "checksum = double_hash[:4] \n",
    "pre_address = prefix_and_hash160 + checksum\n",
    "\n",
    "address = base58.b58encode(pre_address)\n",
    "print(address.decode())"
   ]
  }
 ],
 "metadata": {
  "kernelspec": {
   "display_name": "Python 3",
   "language": "python",
   "name": "python3"
  },
  "language_info": {
   "codemirror_mode": {
    "name": "ipython",
    "version": 3
   },
   "file_extension": ".py",
   "mimetype": "text/x-python",
   "name": "python",
   "nbconvert_exporter": "python",
   "pygments_lexer": "ipython3",
   "version": "3.6.9"
  }
 },
 "nbformat": 4,
 "nbformat_minor": 2
}
