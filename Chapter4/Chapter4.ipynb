{
 "cells": [
  {
   "cell_type": "markdown",
   "metadata": {},
   "source": [
    "リスト4.1 ビット論理和の演算"
   ]
  },
  {
   "cell_type": "code",
   "execution_count": 1,
   "metadata": {},
   "outputs": [
    {
     "name": "stdout",
     "output_type": "stream",
     "text": [
      "0b1010\n",
      "0b1101\n",
      "0b1111\n"
     ]
    }
   ],
   "source": [
    "print(bin(10))\n",
    "print(bin(13))\n",
    "print(bin(10|13))"
   ]
  },
  {
   "cell_type": "markdown",
   "metadata": {},
   "source": [
    "リスト4.2 ビット論理積の演算"
   ]
  },
  {
   "cell_type": "code",
   "execution_count": 2,
   "metadata": {},
   "outputs": [
    {
     "name": "stdout",
     "output_type": "stream",
     "text": [
      "0b1010\n",
      "0b1101\n",
      "0b1000\n"
     ]
    }
   ],
   "source": [
    "print(bin(10))\n",
    "print(bin(13))\n",
    "print(bin(10&13))"
   ]
  },
  {
   "cell_type": "markdown",
   "metadata": {},
   "source": [
    "リスト4.3 左に指定したビットだけシフトさせる演算"
   ]
  },
  {
   "cell_type": "code",
   "execution_count": 3,
   "metadata": {},
   "outputs": [
    {
     "name": "stdout",
     "output_type": "stream",
     "text": [
      "0b1111\n",
      "0b1111\n",
      "0b11110\n",
      "0b111100\n",
      "0b1111000\n",
      "0b11110000\n"
     ]
    }
   ],
   "source": [
    "print(bin(15))\n",
    "print(bin(15<<0))\n",
    "print(bin(15<<1))\n",
    "print(bin(15<<2))\n",
    "print(bin(15<<3))\n",
    "print(bin(15<<4))"
   ]
  },
  {
   "cell_type": "markdown",
   "metadata": {},
   "source": [
    "リスト4.4 右に指定したビットだけシフトさせる演算"
   ]
  },
  {
   "cell_type": "code",
   "execution_count": 4,
   "metadata": {},
   "outputs": [
    {
     "name": "stdout",
     "output_type": "stream",
     "text": [
      "0b1111\n",
      "0b111\n",
      "0b11\n",
      "0b1\n",
      "0b0\n",
      "0b0\n"
     ]
    }
   ],
   "source": [
    "print(bin(15))\n",
    "print(bin(15>>1))\n",
    "print(bin(15>>2))\n",
    "print(bin(15>>3))\n",
    "print(bin(15>>4))\n",
    "print(bin(15>>5))"
   ]
  },
  {
   "cell_type": "markdown",
   "metadata": {},
   "source": [
    "リスト4.5 変数の利用例"
   ]
  },
  {
   "cell_type": "code",
   "execution_count": 5,
   "metadata": {},
   "outputs": [
    {
     "name": "stdout",
     "output_type": "stream",
     "text": [
      "apple \n",
      "banana \n"
     ]
    }
   ],
   "source": [
    "a = \"apple \"\n",
    "b = \"banana \"\n",
    "print(a)\n",
    "print(b)"
   ]
  },
  {
   "cell_type": "markdown",
   "metadata": {},
   "source": [
    "リスト4.6 三角形の面積を求める関数"
   ]
  },
  {
   "cell_type": "code",
   "execution_count": 6,
   "metadata": {},
   "outputs": [
    {
     "name": "stdout",
     "output_type": "stream",
     "text": [
      "3.0\n"
     ]
    }
   ],
   "source": [
    "def area_triangle(x, h):\n",
    "    ans = (x*h)/2\n",
    "    return ans\n",
    "\n",
    "print(area_triangle(2,3))"
   ]
  },
  {
   "cell_type": "markdown",
   "metadata": {},
   "source": [
    "リスト4.7 type関数の利用例"
   ]
  },
  {
   "cell_type": "code",
   "execution_count": 5,
   "metadata": {},
   "outputs": [
    {
     "name": "stdout",
     "output_type": "stream",
     "text": [
      "<class 'int'>\n",
      "<class 'list'>\n"
     ]
    }
   ],
   "source": [
    "a=1\n",
    "b=[1,2,3]\n",
    "\n",
    "print(type(a))\n",
    "print(type(b))"
   ]
  },
  {
   "cell_type": "markdown",
   "metadata": {},
   "source": [
    "リスト4.8 appendメソッドの利用例"
   ]
  },
  {
   "cell_type": "code",
   "execution_count": 7,
   "metadata": {},
   "outputs": [
    {
     "name": "stdout",
     "output_type": "stream",
     "text": [
      "[10, 20, 30, 40]\n"
     ]
    }
   ],
   "source": [
    "list2 = [10, 20 ,30]\n",
    "list2.append(40)\n",
    "print(list2)"
   ]
  },
  {
   "cell_type": "markdown",
   "metadata": {},
   "source": [
    "リスト4.9 insertメソッドの利用例"
   ]
  },
  {
   "cell_type": "code",
   "execution_count": 8,
   "metadata": {},
   "outputs": [
    {
     "name": "stdout",
     "output_type": "stream",
     "text": [
      "[1, 2, 3, 10, 4, 5]\n"
     ]
    }
   ],
   "source": [
    "list3 = [1, 2, 3, 4, 5]\n",
    "list3.insert(3, 10)\n",
    "print(list3)"
   ]
  },
  {
   "cell_type": "markdown",
   "metadata": {},
   "source": [
    "リスト4.10 len関数の利用例"
   ]
  },
  {
   "cell_type": "code",
   "execution_count": 9,
   "metadata": {},
   "outputs": [
    {
     "name": "stdout",
     "output_type": "stream",
     "text": [
      "5\n"
     ]
    }
   ],
   "source": [
    "list4 = [1, 2, 3, 4, 5]\n",
    "print(len(list4))"
   ]
  },
  {
   "cell_type": "markdown",
   "metadata": {},
   "source": [
    "リスト4.11 辞書型の利用例"
   ]
  },
  {
   "cell_type": "code",
   "execution_count": 10,
   "metadata": {},
   "outputs": [
    {
     "name": "stdout",
     "output_type": "stream",
     "text": [
      "{'A': 1, 'B': 2}\n",
      "{'key': 'value'}\n"
     ]
    }
   ],
   "source": [
    "dic1 = {\"A\" : 1, \"B\" : 2}\n",
    "dic2 = {}\n",
    "dic2[\"key\"] = \"value\"\n",
    "\n",
    "print(dic1)\n",
    "print(dic2)"
   ]
  },
  {
   "cell_type": "markdown",
   "metadata": {},
   "source": [
    "リスト4.12 valueに配列を格納する利用例"
   ]
  },
  {
   "cell_type": "code",
   "execution_count": 12,
   "metadata": {},
   "outputs": [
    {
     "name": "stdout",
     "output_type": "stream",
     "text": [
      "{'key': ['value1', 'value2']}\n"
     ]
    }
   ],
   "source": [
    "dic = {}\n",
    "dic[\"key\"] = [\"value1\", \"value2\"]\n",
    "print(dic)"
   ]
  },
  {
   "cell_type": "markdown",
   "metadata": {},
   "source": [
    "リスト4.13 keyを利用したvalueの取り出し"
   ]
  },
  {
   "cell_type": "code",
   "execution_count": 13,
   "metadata": {},
   "outputs": [
    {
     "name": "stdout",
     "output_type": "stream",
     "text": [
      "dog\n"
     ]
    }
   ],
   "source": [
    "dic = {\"A\": \"cat\", \"B\": \"dog\"}\n",
    "print(dic[\"B\"])"
   ]
  },
  {
   "cell_type": "markdown",
   "metadata": {},
   "source": [
    "リスト4.14 keyを利用したvalueの変更"
   ]
  },
  {
   "cell_type": "code",
   "execution_count": 14,
   "metadata": {},
   "outputs": [
    {
     "name": "stdout",
     "output_type": "stream",
     "text": [
      "{'A': 'dog'}\n"
     ]
    }
   ],
   "source": [
    "dic = {\"A\" : \"cat\"}\n",
    "dic[\"A\"] = \"dog\"\n",
    "print(dic)"
   ]
  },
  {
   "cell_type": "markdown",
   "metadata": {},
   "source": [
    "リスト4.15 JSONデータ"
   ]
  },
  {
   "cell_type": "code",
   "execution_count": null,
   "metadata": {},
   "outputs": [],
   "source": [
    "{\n",
    "  \"age\": 30,\n",
    "  \"name\": “satoshi”,\n",
    "  \"class\": [“math”, ”science”, ”english”]\n",
    "}"
   ]
  },
  {
   "cell_type": "markdown",
   "metadata": {},
   "source": [
    "リスト4.16 if文の基本構文"
   ]
  },
  {
   "cell_type": "code",
   "execution_count": 16,
   "metadata": {},
   "outputs": [
    {
     "name": "stdout",
     "output_type": "stream",
     "text": [
      "条件クリア！ \n"
     ]
    }
   ],
   "source": [
    "x = 5\n",
    "if x >= 3:\n",
    "    print(\"条件クリア！ \")"
   ]
  },
  {
   "cell_type": "markdown",
   "metadata": {},
   "source": [
    "リスト4.17 elseを使った分岐"
   ]
  },
  {
   "cell_type": "code",
   "execution_count": 17,
   "metadata": {},
   "outputs": [
    {
     "name": "stdout",
     "output_type": "stream",
     "text": [
      "条件を満たしていません\n"
     ]
    }
   ],
   "source": [
    "x = 2\n",
    "if x >= 3:\n",
    "    print(\"条件クリア！ \")\n",
    "else:\n",
    "    print(\"条件を満たしていません\")"
   ]
  },
  {
   "cell_type": "markdown",
   "metadata": {},
   "source": [
    "リスト4.18 elifを使った分岐"
   ]
  },
  {
   "cell_type": "code",
   "execution_count": 1,
   "metadata": {},
   "outputs": [
    {
     "name": "stdout",
     "output_type": "stream",
     "text": [
      "C評価です。\n"
     ]
    }
   ],
   "source": [
    "x=13\n",
    "if x >= 20:\n",
    "    print(\"A評価です。\")\n",
    "elif 19 >= x >=15:\n",
    "    print(\"B評価です。\")\n",
    "elif 14 >= x >=10:\n",
    "    print(\"C評価です。\")\n",
    "else:\n",
    "    print(\"D評価です。\")"
   ]
  },
  {
   "cell_type": "markdown",
   "metadata": {},
   "source": [
    "リスト4.19 for文の基本構文"
   ]
  },
  {
   "cell_type": "code",
   "execution_count": 18,
   "metadata": {},
   "outputs": [
    {
     "name": "stdout",
     "output_type": "stream",
     "text": [
      "dog\n",
      "cat\n",
      "bird\n",
      "sheep\n"
     ]
    }
   ],
   "source": [
    "words_list = [\"dog\",\"cat\",\"bird\",\"sheep\"]\n",
    "for w in words_list:\n",
    "    print (w)"
   ]
  },
  {
   "cell_type": "markdown",
   "metadata": {},
   "source": [
    "リスト4.20 rangeを使ったfor構文"
   ]
  },
  {
   "cell_type": "code",
   "execution_count": 19,
   "metadata": {},
   "outputs": [
    {
     "name": "stdout",
     "output_type": "stream",
     "text": [
      "0\n",
      "1\n",
      "2\n",
      "3\n",
      "4\n"
     ]
    }
   ],
   "source": [
    "for num in range(5):\n",
    "    print(num)"
   ]
  },
  {
   "cell_type": "markdown",
   "metadata": {},
   "source": [
    "リスト4.21 while文の基本構文の例"
   ]
  },
  {
   "cell_type": "code",
   "execution_count": 20,
   "metadata": {},
   "outputs": [
    {
     "name": "stdout",
     "output_type": "stream",
     "text": [
      "start!\n",
      "0\n",
      "1\n",
      "2\n",
      "3\n",
      "4\n",
      "finish!\n"
     ]
    }
   ],
   "source": [
    "i = 0\n",
    "print(\"start!\")\n",
    "while i < 5:\n",
    "    print(i)\n",
    "    i += 1\n",
    "print(\"finish!\")"
   ]
  }
 ],
 "metadata": {
  "kernelspec": {
   "display_name": "Python 3 (ipykernel)",
   "language": "python",
   "name": "python3"
  },
  "language_info": {
   "codemirror_mode": {
    "name": "ipython",
    "version": 3
   },
   "file_extension": ".py",
   "mimetype": "text/x-python",
   "name": "python",
   "nbconvert_exporter": "python",
   "pygments_lexer": "ipython3",
   "version": "3.9.12"
  }
 },
 "nbformat": 4,
 "nbformat_minor": 2
}
