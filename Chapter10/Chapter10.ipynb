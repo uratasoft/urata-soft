{
 "cells": [
  {
   "cell_type": "markdown",
   "metadata": {},
   "source": [
    "リスト10.1 トランザクションの生データの一例"
   ]
  },
  {
   "cell_type": "code",
   "execution_count": null,
   "metadata": {},
   "outputs": [],
   "source": [
    "0000000245d50a313eb89a71bb501380334e58973b7b3c0fb4614f8645d07d728b8574aa010000008c493046022100b3c7f1c56384c6145673b94fa226af8d02a263a1ed9f3505fdf0e94cc681193e022100d677eb3cbb9b82da961626ccfdc31a6041195123ae236b5ed1a34250c4163e73014104545e7c6d2acc161567860039bc3068d4af5432b1afe34d2909bf8996b95c10a6445692bc3f458a0503c45084f99329d5e90d84f21a52a5d11add62eb26340db2ffffffff49de1cd30c20d1f22a2e966b0d195d20b0f133e8de426f7d1610525a64a09daf000000008b483045022100d4ea6ce46296548d38f02da337daebef00f443134f3b68f4ad8946a961728b0402207573dc96e324037d1934fa5105a517608364a2b273e694dce53714745fa135f4014104e89667c1c2cf4eb91324debcc7742b8eb22406c59d6033794124efb7cce37b78ddd5e3c3474aeb9dbf7689c9d36d776b7d21debe4d75142cb43a2529fb3a6da4ffffffff0100286bee000000001976a914c1ac9042b50a9d2e7a6a1b42bad66e61a9ec3f6b88ac00000000"
   ]
  },
  {
   "cell_type": "markdown",
   "metadata": {},
   "source": [
    "リスト10.2 JSON形式に変換"
   ]
  },
  {
   "cell_type": "code",
   "execution_count": 1,
   "metadata": {},
   "outputs": [
    {
     "ename": "SyntaxError",
     "evalue": "invalid non-printable character U+3000 (4035297372.py, line 2)",
     "output_type": "error",
     "traceback": [
      "\u001b[1;36m  Input \u001b[1;32mIn [1]\u001b[1;36m\u001b[0m\n\u001b[1;33m    \"txid\": \"0e942bb178dbf7ae40d36d238d559427429641689a379fc43929f15275a75fa6\",\u001b[0m\n\u001b[1;37m                                                                                   ^\u001b[0m\n\u001b[1;31mSyntaxError\u001b[0m\u001b[1;31m:\u001b[0m invalid non-printable character U+3000\n"
     ]
    }
   ],
   "source": [
    "{\n",
    "  \"txid\": \"0e942bb178dbf7ae40d36d238d559427429641689a379fc43929f15275a75fa6\",    　\n",
    "  \"hash\": \"0e942bb178dbf7ae40d36d238d559427429641689a379fc43929f15275a75fa6\",\n",
    "  \"version\": 1,\n",
    "  \"size\": 405,\n",
    "  \"vsize\": 405,\n",
    "  \"weight\": 1620,\n",
    "  \"locktime\": 0,\n",
    "  \"vin\": [\n",
    "    {\n",
    "      \"txid\": \"aa74858b727dd045864f61b40f3c7b3b97584e33801350bb719ab83e310ad545\",\n",
    "      \"vout\": 1,\n",
    "      \"scriptSig\": {\n",
    "        \"asm\": \"3046022100b3c7f1c56384c6145673b94fa226af8d02a263a1ed9f3505fdf0e94cc681193e022100d677eb3cbb9b82da961626ccfdc31a6041195123ae236b5ed1a34250c4163e73[ALL] 04545e7c6d2acc161567860039bc3068d4af5432b1afe34d2909bf8996b95c10a6445692bc3f458a0503c45084f99329d5e90d84f21a52a5d11add62eb26340db2\"\n",
    "        \"hex\": \"493046022100b3c7f1c56384c6145673b94fa226af8d02a263a1ed9f3505fdf0e94cc681193e022100d677eb3cbb9b82da961626ccfdc31a6041195123ae236b5ed1a34250c4163e73014104545e7c6d2acc161567860039bc3068d4af5432b1afe34d2909bf8996b95c10a6445692bc3f458a0503c45084f99329d5e90d84f21a52a5d11add62eb26340db2\"\n",
    "      },\n",
    "      \"sequence\": 4294967295\n",
    "    },\n",
    "    {\n",
    "      \"txid\": \"af9da0645a5210167d6f42dee833f1b0205d190d6b962e2af2d1200cd31cde49\",\n",
    "      \"vout\": 0,\n",
    "      \"scriptSig\": {\n",
    "        \"asm\": \"3045022100d4ea6ce46296548d38f02da337daebef00f443134f3b68f4ad8946a961728b0402207573dc96e324037d1934fa5105a517608364a2b273e694dce53714745fa135f4[ALL] 04e89667c1c2cf4eb91324debcc7742b8eb22406c59d6033794124efb7cce37b78ddd5e3c3474aeb9dbf7689c9d36d776b7d21debe4d75142cb43a2529fb3a6da4\",\n",
    "        \"hex\": \"483045022100d4ea6ce46296548d38f02da337daebef00f443134f3b68f4ad8946a961728b0402207573dc96e324037d1934fa5105a517608364a2b273e694dce53714745fa135f4014104e89667c1c2cf4eb91324debcc7742b8eb22406c59d6033794124efb7cce37b78ddd5e3c3474aeb9dbf7689c9d36d776b7d21debe4d75142cb43a2529fb3a6da4\"\n",
    "      },\n",
    "      \"sequence\": 4294967295\n",
    "    }\n",
    "  ],\n",
    "  \"vout\": [\n",
    "    {\n",
    "      \"value\": 40.00000000,\n",
    "      \"n\": 0,\n",
    "      \"scriptPubKey\": {"
   ]
  },
  {
   "cell_type": "markdown",
   "metadata": {},
   "source": [
    "リスト10.3 公開APIからトランザクションの生データを取得するコード"
   ]
  },
  {
   "cell_type": "code",
   "execution_count": 2,
   "metadata": {},
   "outputs": [
    {
     "name": "stdout",
     "output_type": "stream",
     "text": [
      "010000000245d50a313eb89a71bb501380334e58973b7b3c0fb4614f8645d07d728b8574aa010000008c493046022100b3c7f1c56384c6145673b94fa226af8d02a263a1ed9f3505fdf0e94cc681193e022100d677eb3cbb9b82da961626ccfdc31a6041195123ae236b5ed1a34250c4163e73014104545e7c6d2acc161567860039bc3068d4af5432b1afe34d2909bf8996b95c10a6445692bc3f458a0503c45084f99329d5e90d84f21a52a5d11add62eb26340db2ffffffff49de1cd30c20d1f22a2e966b0d195d20b0f133e8de426f7d1610525a64a09daf000000008b483045022100d4ea6ce46296548d38f02da337daebef00f443134f3b68f4ad8946a961728b0402207573dc96e324037d1934fa5105a517608364a2b273e694dce53714745fa135f4014104e89667c1c2cf4eb91324debcc7742b8eb22406c59d6033794124efb7cce37b78ddd5e3c3474aeb9dbf7689c9d36d776b7d21debe4d75142cb43a2529fb3a6da4ffffffff0100286bee000000001976a914c1ac9042b50a9d2e7a6a1b42bad66e61a9ec3f6b88ac00000000\n"
     ]
    }
   ],
   "source": [
    "import requests\n",
    "\n",
    "APIURL = \"https://blockchain.info/rawtx/\"\n",
    "TXID = \"0e942bb178dbf7ae40d36d238d559427429641689a379fc43929f15275a75fa6\"\n",
    "\n",
    "r = requests.get( APIURL + TXID + \"?format=hex\" )\n",
    "print(r.text)"
   ]
  },
  {
   "cell_type": "markdown",
   "metadata": {},
   "source": [
    "リスト10.4 公開APIを利用して取得したトランザクションデータ（リスト10.3 の出力結果をご覧ください）"
   ]
  },
  {
   "cell_type": "markdown",
   "metadata": {},
   "source": [
    "リスト10.5 整形されたトランザクションデータを取得するコード"
   ]
  },
  {
   "cell_type": "code",
   "execution_count": 3,
   "metadata": {},
   "outputs": [
    {
     "name": "stdout",
     "output_type": "stream",
     "text": [
      "{\"hash\":\"0e942bb178dbf7ae40d36d238d559427429641689a379fc43929f15275a75fa6\",\"ver\":1,\"vin_sz\":2,\"vout_sz\":1,\"size\":405,\"weight\":1620,\"fee\":0,\"relayed_by\":\"0.0.0.0\",\"lock_time\":0,\"tx_index\":5853752370814501,\"double_spend\":false,\"time\":1298920129,\"block_index\":111111,\"block_height\":111111,\"inputs\":[{\"sequence\":4294967295,\"witness\":\"\",\"script\":\"493046022100b3c7f1c56384c6145673b94fa226af8d02a263a1ed9f3505fdf0e94cc681193e022100d677eb3cbb9b82da961626ccfdc31a6041195123ae236b5ed1a34250c4163e73014104545e7c6d2acc161567860039bc3068d4af5432b1afe34d2909bf8996b95c10a6445692bc3f458a0503c45084f99329d5e90d84f21a52a5d11add62eb26340db2\",\"index\":0,\"prev_out\":{\"tx_index\":2457001643202323,\"value\":500000000,\"n\":1,\"type\":0,\"spent\":true,\"script\":\"76a91471c4f6b0f56fef3cbdbae6f297631a27ab159f9888ac\",\"spending_outpoints\":[{\"tx_index\":5853752370814501,\"n\":0}],\"addr\":\"1BNZJx7pM4GTqe8MgEZoji2fUS3fKnJH2i\"}},{\"sequence\":4294967295,\"witness\":\"\",\"script\":\"483045022100d4ea6ce46296548d38f02da337daebef00f443134f3b68f4ad8946a961728b0402207573dc96e324037d1934fa5105a517608364a2b273e694dce53714745fa135f4014104e89667c1c2cf4eb91324debcc7742b8eb22406c59d6033794124efb7cce37b78ddd5e3c3474aeb9dbf7689c9d36d776b7d21debe4d75142cb43a2529fb3a6da4\",\"index\":1,\"prev_out\":{\"tx_index\":2598986085139482,\"value\":3500000000,\"n\":0,\"type\":0,\"spent\":true,\"script\":\"76a9144be0a14399e3aad60a761f2e3f658902548423e788ac\",\"spending_outpoints\":[{\"tx_index\":5853752370814501,\"n\":1}],\"addr\":\"17vCmx3McuR3Z7ch2Nz83EoJN9J9p1dvdy\"}}],\"out\":[{\"type\":0,\"spent\":false,\"value\":4000000000,\"spending_outpoints\":[],\"n\":0,\"tx_index\":5853752370814501,\"script\":\"76a914c1ac9042b50a9d2e7a6a1b42bad66e61a9ec3f6b88ac\",\"addr\":\"1Jf48wufcDpPQ2EEgX1jUULuTHVzDhqBSF\"}]}\n"
     ]
    }
   ],
   "source": [
    "import requests\n",
    "\n",
    "APIURL = \"https://blockchain.info/rawtx/\"\n",
    "TXID = \"0e942bb178dbf7ae40d36d238d559427429641689a379fc43929f15275a75fa6\"\n",
    "\n",
    "r = requests.get( APIURL + TXID )\n",
    "print(r.text)"
   ]
  },
  {
   "cell_type": "markdown",
   "metadata": {},
   "source": [
    "リスト10.6 取得した整形されたトランザクションデータ（リスト10.6は、リスト10.5 の出力結果をご覧ください）"
   ]
  },
  {
   "cell_type": "markdown",
   "metadata": {},
   "source": [
    "リスト10.7　UTXOを収集するプログラム"
   ]
  },
  {
   "cell_type": "code",
   "execution_count": 4,
   "metadata": {},
   "outputs": [
    {
     "name": "stdout",
     "output_type": "stream",
     "text": [
      "228個のUTXOが見つかりました！ \n",
      "8e3a96faac9e2594206c2f13d8254d2e4fb00de1fa5b2f42b90bf26de5cf215e:1000 satoshis\n",
      "f24ba491a636cd5f1f2dd52a1ccb01ea9fca94277418bdb3cc4faa6befd2b2a2:42342 satoshis\n",
      "c6cd29177eaf1b58b256f153774af0124f833b8d0d8f9a769922a5e1bdd0e3e2:5000 satoshis\n",
      "36c7f1526323477d12ee597d770f23425b92ce6f9d1cd1849cd28b93cac5c6cf:800 satoshis\n",
      "fab59e9889f1c3717148e394cf60ce590f832acbad3db3fb586812aadb6c7350:28035 satoshis\n",
      "8d4dbb63eb502878337b85791b5ebc2960e3b1932d80f3adaa93ab130d5f3895:23816 satoshis\n",
      "c383cc5a1ed3666f85b13087804244a500a0d34a25ebd62bb2efe583b28291c8:56678 satoshis\n",
      "1dd49710dcfce62af956eee4130322e11f099abf6177c19bcb37ff62736fdba9:29029 satoshis\n",
      "dfa6b3ff4d010db594ede969ff412b93021e4842ced361a425cabeb0b95fc90a:255617 satoshis\n",
      "af37c4cc9c94749f6224bcff75f545c3da97969906dc75d863515b5fb8fd2095:6340 satoshis\n",
      "13c9f498c026b334375ff697774fe7299da660d2eb6023b7585537bb734e906f:136977 satoshis\n",
      "5e9768b2133e1f94d13bfdf5c7a0130fe58a31cb06ede16b57fe8c4d131c1ffb:37600 satoshis\n",
      "a1c52e63a1b9bf6074d73664f0ce467485dec72640147554e301cc9de8d7eaba:1101 satoshis\n",
      "db9a72cfd96ac48c42c0726bf4aaea2bd1ba577c9020556b7db3808404b402de:672 satoshis\n",
      "b9f8478c0e2bd819e448a921c592ff261109d59514fea95fcc0d52f0a18746ac:10716 satoshis\n",
      "1ed3aad0e9a159c2f1e9b747ee653ae2a1debad92db1a799afb260ef37b40ce4:756 satoshis\n",
      "a7f2e4d0d1a07d3839a72d8792fc219c76f9d575492d32169ef23c771b913dcf:4800 satoshis\n",
      "339a0375d0ebfd1dac4753c2252e098fd78f8fdbd35bbcc64e2f9d6b4bda955b:130843 satoshis\n",
      "8811583e9b785b2b229d9ff450e472419a0178e7fede7d5e8f2f19445cdc6504:654849 satoshis\n",
      "1587bb09aada3f91c9863c2f7fd92fefef4767d8d92514d11f98c952d07d678c:103786 satoshis\n",
      "3a9609c5c5fb49dbf04e0651f149e0e0f4848e7687fcf655f43a106a424327b8:11594 satoshis\n",
      "ade391fb16cba71bd20154d11e59db71e12751a5d443100fb9612c5d96f022bf:13383 satoshis\n",
      "510b2ce4fb44fecadc9f0d11406dc12dc836e03610f07e1063f1b8e623bb5f75:18348 satoshis\n",
      "4f54cf5a902f89b43925408f9045581123d0c6a33ae60833df2575fe96670f07:830000 satoshis\n",
      "6e29f76f6c6e0e5bce01328c7c1a002dc411910b563dfb16e581b62a4d576a24:800000 satoshis\n",
      "3a59d8b2181d8877fbb045e5afd71fff9305bd910ecdd804711508a8a8c34a82:110119 satoshis\n",
      "5f5239fb80df8a2a2382fedba56874b4f02f978dd5f099bcf4e5b7b8172ccc41:494635 satoshis\n",
      "06ef0c75c1cc3d7c5bf42247a56e03f5487c000ccccb3681a9ef79ad95d28c64:25479 satoshis\n",
      "a20854ae4ce9a29c945e55d9d559572cc46aa7290976db606b2a291593dfb2da:12819 satoshis\n",
      "6a652e95455ce11cc4e3a49e0b9cdcb14fe4b88c8594090347d516997cf8d689:11265 satoshis\n",
      "6f4f94410b54d4b145538b2a5cd45dee148270bce9b3eeb7d8381332309c7e58:98067 satoshis\n",
      "ba6a5de57ec11e1f062201864fbcafdf3275ddd4bac6609823f5b5264605ef8d:18067 satoshis\n",
      "0e95a0f6c2bc376728f2a2b069ab2b92acd2ac8c516209889f9787bd6531fa1c:281000 satoshis\n",
      "96d9dd9bfb2e0bcabfb206682a6f682a900b6abe54952b37721330a82d41ecd7:38089 satoshis\n",
      "663ec4880294f34dfe52f79e854c63501b4a2ea86c3fa43df8541fd2bb6ea503:73088 satoshis\n",
      "2fc1641a205d869ced3d608a8f408632cf900210507816730213e32906b21ba0:38357 satoshis\n",
      "c30590eb89acd5cde8b04339b7e14ae0f09950ebf645f97202f76e8f1fd44fe7:500000 satoshis\n",
      "6a9f034faa8b203d8a43bf0ea926decd82a71295fb4b00411e1077b76f76e489:200000 satoshis\n",
      "ad84ab1a596ecbaed1ce5100654346bc37a80a699d8a2f5dc65c396095f669c2:28527 satoshis\n",
      "b281e44576a260eaed94969397ee01f29797768f17241684a1403e8201bda342:252412 satoshis\n",
      "2e9a6fd377a59b1c58e22314ab783bd8209581eeddd0fdf268d4bf7088b859e2:6200 satoshis\n",
      "78a947c853bae78a7941877255360b9ac22a4784ba689e63e917c9004a3220d2:203308 satoshis\n",
      "1bd4374bf0cdb35bc44dbbe8224931457cef86522e407c18fd28263f7fd6995f:203309 satoshis\n",
      "d29ffe8871a529f2b793f00efa0ccb69ebb35810ff8641eee1e76a869fbd6c5e:57571 satoshis\n",
      "7c74e8fcf6ae8f154a481694687c003e39a6e877a2ab4c149abd844dc8bf1c74:33940 satoshis\n",
      "23d74f5bc4986417f2c5d79877488393783cf2cd5f519c136b088b65a5e8707d:205601 satoshis\n",
      "c53f705f7979660f815882150b79b7ed114f31348dec648fe90d024d9b980d06:102000 satoshis\n",
      "1f0faa412ea3ccbcdac6445bb54642485d3142e6595a882e03741646afbff003:532552 satoshis\n",
      "7061afa074519a04e1a3970d305b417b73b8c33cda7500698a1b6450a8e130ba:645564 satoshis\n",
      "11d1597351cae243230cde8b9c46d05bf935ef97b48e610d60b0589822262f21:11421 satoshis\n",
      "75f611122888f20a85edb12143bdeae6fc3e551e7ee7ebf9322f25dac12d64b1:708752 satoshis\n",
      "ee2e61e723eb39fb350b0dddceb8b902f6a96e97451c8caef426667df3c88fe8:210525 satoshis\n",
      "c466e52e096a8d8ae02ec04e7a5dcb7c628e34f304bba984a1e9573d5bde2aa1:24600 satoshis\n",
      "28dafb20dd6bc13a84a5a075efbd2c560fb3c724240fe49616b13ef7c7f0ca12:21802 satoshis\n",
      "b8503ba5a4bc9bbbb86c24c60d774412ee5acb1c0b11117b25f6d7fbe3ec02a9:533649 satoshis\n",
      "1a67f42417215e7611624df6c00711d56c86dac921dc4bbdb21d9bda4cddf709:123698 satoshis\n",
      "425cf7126f657614023e9a0440071e38b2c4a61430fea88559509f0bbb29c5fb:49204 satoshis\n",
      "894ef2e79708fa8c0f1f34b6f7d76c76f024f21a4c0b07c81c912be53540e696:100000 satoshis\n",
      "3a222f2e3535fdcd839307e27c409e5c018eea51ffe83e1d60cb1723bf9586ca:3787 satoshis\n",
      "051b78b0623747300b8a8c47c6ca222086bba8b3640f143c991c7a6ac329eab4:24433 satoshis\n",
      "2304a1b06f90de42526d872fc1a7896dfdc794eae48d98384e0c34a4e0a8451b:81822 satoshis\n",
      "6673caca14c6690492b562e3a73380596a7881e23540710978f96c19b7242251:1000 satoshis\n",
      "70587153e8e2cf2a4d6911d6a70dba1a4b5bbd2d882b530fd9cfa58b3495a953:22050 satoshis\n",
      "1a72a0c718945fd59adf6804a1974594dbd57e634a1d44257f07726fde7bad44:237277 satoshis\n",
      "8f362c133e03fcf709858c1b1d3e4b9c74824154b093c92aadc12f73eaac6e41:79665 satoshis\n",
      "ddbb72071363c9246a31dab731957b7aa013671d21158073134283fa74892f12:40000 satoshis\n",
      "4305e3ca9657c8cc1483736837d72f5b3fea8cd4fab90cc8f09b17e090aff89c:96600 satoshis\n",
      "bd9e5881b9619300c80caef2ed549455b3307b5a0551fa60aeb9853d7b0f90c0:16869 satoshis\n",
      "a6c408f1df7a7273bcbf541ac25b4462d14d589caa6850509fb999dcf54c5ff7:139577 satoshis\n",
      "7370e90aa1dd71425b2056c4215f99c9f8c79a469c2a3e55e04cf6221c694512:712356 satoshis\n",
      "b0831d93bfa75b96743b6577875a11438ac04ac008f7b3c2937a3e79c4ae1d7d:12866 satoshis\n",
      "a0c4b2118d971d773aaf7315c4546d1a667fcdedd4f0a7a3089898829c9a43cd:98167 satoshis\n",
      "683b5434cbb40b7e838c019df2216d6dac8d812c914efd254c139c3f246f2774:590310 satoshis\n",
      "7ced016e39da2ffef2f4027dc265b1cf6417185a25e47c8e18f9847ea3f6e8fa:98501 satoshis\n",
      "d1b5ce9eff26b8b6b9028d02891723b321ce65a629de5a9d544490a83951a86b:121983 satoshis\n",
      "6134effb794abcfabf174b2fd2464b153c96f8753e0a5a916477618e05f5cf9f:34071 satoshis\n",
      "000fb606e469a15c7608d187c50c7cc2edecbc5562730a43e5c7d5cf17bfbc86:689200 satoshis\n",
      "e9843d39033fb78b29ccef3e372e471dcb13dd33b0706422f2778832b4c768db:16706 satoshis\n",
      "542dfbdef34be9919f52d8bcc74ebc89ca329b2b67cd37683791edc83943fe18:18999 satoshis\n",
      "5e620a9063d790b28af60f3368bf5b61ca63fb3a88273aee9bc3a3232ed943d5:87593 satoshis\n",
      "fdc9c084be56e59ac544f0bb7ec53da7af830efcf5d13c219a3298101ba7aa9e:369539 satoshis\n",
      "7488f50f5888bc3e49bc03e35b5d5ccdfca133066058676735b458dab9d510a4:102659 satoshis\n",
      "042861b12e226c523ffac9d8487d072ab6cf3e4c4a5ebd5f1a6204539c0a59b1:600000 satoshis\n",
      "57cea4159a263a03b9f41c09d90ba9e52d2e6bb05e6a451d9554c19e57a30711:96840 satoshis\n",
      "7743628193f4e0725c1f11d986657c90f53a0c1ced88cb8d4c16e076a9be9757:163220 satoshis\n",
      "c85f75bb7ba7ae48b6e0aaf243e4c4ff4b69509484f5de8726a5022055c08b93:8550 satoshis\n",
      "9b865d4283650c043e97e14ef0b3dfd64085e8c015bc46ceb66c8841893734b3:9759 satoshis\n",
      "761434d685d06d127de331cc0ee7d72d448803bdc522f9129821f68c45b2bc6d:290040 satoshis\n",
      "5b88a88066c80ff41a32eb48f552d5aa3bb6c66d3adf9a6063cbbd2d43092a51:708946 satoshis\n",
      "f0ca94620e626968f17f9c59d575db2343c16a8f1b4f3735015ab5422f238106:877 satoshis\n",
      "35547149b95e0b96f9ad881bc24780f7c4c47cbf07082457ce6442c4421ae078:520592 satoshis\n",
      "21b9b836f8f4c85693b853867a55924c354bd94fa5b19e59bd781e8c31448101:383599 satoshis\n",
      "171849c151b4201cfca1de3f8e251dc11e96c34664073ccdd19c88a1c2e14273:2771 satoshis\n",
      "bff48d5ae4c189bce5b9d9a5a3d9e8d3e1fa89e0c310821dbdb960b607e5ba12:10753 satoshis\n",
      "ab018b7b004c2fe9cb8cea657f70a5e41617e0c280624c2be4e53197fc9d6dd1:26180 satoshis\n",
      "188ecf0bbcfcf6a741468639f7d2cb0cf82cc41161be2b0b192c3d0e8d5e4433:5920 satoshis\n",
      "5b26db3d3c5f9600e00d1f9a5948655ff3273059069f6e97b5b98db26aeacb47:180925 satoshis\n",
      "11036a4f2eef030050895d5c4353177f84be12c4883346f804291efe4518b045:402877 satoshis\n",
      "dff835e820c78aab37a8a8fa37e8ac519fd732e9c3c89b2e49f0ae79fba3e75f:17330 satoshis\n",
      "fecfb003c8a64ecf90ef5db9e03ae24b08e8ad092e14be9887b192a6b43d3495:548919 satoshis\n",
      "f279833bad1a9ab5d8a878ab88d3eff599278124b896f351c374ec0945a15777:123083 satoshis\n",
      "b8602fb3536eb4167081bc3b824f9fc7cb5aaed91515674b8764cc3ba5054016:14326 satoshis\n",
      "470a652435b495339586e2e8567563e43cd193ab6570179019221e7f2c4465da:92110 satoshis\n",
      "c77e634de4663cd9b00dda4d41af6fc185a5f6e2c98a37c969c976298e5a4ef7:12678 satoshis\n",
      "8790c7304bbafe321d17129d5c77028f65625ff91dfe1d0a0994e59cf6c5c304:17334 satoshis\n",
      "61c86faeb56fb7b276413851a530576934115c18920c05da67304f4ff809a32b:57666 satoshis\n",
      "2a9835e1762e32b3e6056965bc8c7448cf095782b42c2ea94411bf670352e863:172088 satoshis\n",
      "0cae1035c0fa563239e1f15b81e8634262e02713eadaa8f92deaa9ffee8088da:181000 satoshis\n",
      "36c0fa8eaca4ac14e76505639757433b33291f3b1195d49e46a68ac2e3345108:792550 satoshis\n",
      "1afdde84cbf4ea2ec87ac067a84aae29cd4c272f20cca4387a4b22c488a3771b:286500 satoshis\n",
      "f7fda8201c2f42df5e99c3c50bdf215f17b1e32e1fa58f35662b217ceb5838b9:84791 satoshis\n",
      "1cee8661bec9ef5e5eb842ffbb57bc504d404fda4bd0c7f75bc81fffd5d24278:54731 satoshis\n",
      "ca018f338ac82853c9f28d7d3dd005ed2982ea3d49cef41ce201bc85a749a665:6344 satoshis\n",
      "3e021f2c88f25b249131fc3a2f6a3123b7f21c81b041c7cd9feb375036edff8b:605 satoshis\n",
      "d072105cf90fb5dd1805b8b6f9a283cd1aa809f1a4570c9dd2210efd10172482:120941 satoshis\n",
      "b7c016e16a505265c08e0a30065f5ab587c0ef87187e1ca1baac10e8ea70dc6a:20000 satoshis\n",
      "bcd8656eb998a992e95f70ed5e49901a578a1ceb9e4c3259ccf839a2446a315b:96846 satoshis\n",
      "1347fda3e6172e9dde14a2c7ab1c0ee96f3507bac442a177a6d92b97585e18b2:23802 satoshis\n",
      "ab0614f1ec920d922843637134bcb0fdd4bc7cb398cdc2199309f2be95406817:54868 satoshis\n",
      "ad0cd8ab1e51490fe0ff828f58c3d53167abf0a5fc9de0929b2d0fec17870ee4:41446 satoshis\n",
      "58bf72c5fb7971883bfc0b60b5b70da569da86708b7cf7749c1679686872273c:141000 satoshis\n",
      "fc4de09bec8216350c147d9939235cd028a0858bf84fccf0db2f749b44adaffa:61100 satoshis\n",
      "9431c071b670a29f4c730239a8e03486cc8b264785dc4bda9efd703e353b6de1:56978 satoshis\n",
      "e1c2d349db27c239d44ed9d37f738b66d2370f39418a9f1a1331905055775e9b:53923 satoshis\n",
      "a11ec196d5cf8ecabba6e71cf8f3203ef7768d10f6d254b60cbcad3af7e25a59:346500 satoshis\n",
      "28312e39a506bdd7168e06b9d1ce5973d4c021eecd697b49be6ccdf2477ba473:425361 satoshis\n",
      "f8cdc8d1b35f4fa62bf8e1ae559821e5c63c2d566d1f3041fad7932fd9d9ac91:94666 satoshis\n",
      "517ec243521e81a55a149681f5f97e001e3cdd4da1e162e5075893702a6c6c17:176058 satoshis\n",
      "b4a19b5e897024cb5657f3ee8b15c39a7a424a429eaa050008264623b8572bd6:273194 satoshis\n",
      "65e209297e51e6f2df655ec13fe7978aa6a9c36c01ed4e3451c7a4fcf38eb023:167487 satoshis\n",
      "5daec42146d5c74e6f6f284959da5f005a3aacc226812bcc8b3f5ddef21f79de:50000 satoshis\n",
      "b97d81c3715491115a613ed79d615cc09f6c1bafbb762b2520a5e82664625f68:290000 satoshis\n",
      "9995cc03c81157902189fac4a2f2fdff0bdfe2e03e32ed137c06199c8a491feb:1000 satoshis\n",
      "a161034d1db8af10073fd6fa89e29543c6dedeac5fc849d6ca4755351a521fcf:149000 satoshis\n",
      "11e5b0a636b22b5bff83426d2f27bf225c22a40d3d1634d06dc7a87349c2f750:354814 satoshis\n",
      "fca4ed18fa4fa029e03dadb6a6ccfa4300c5bdf995365c466c73e4bae4f7cba3:10000 satoshis\n",
      "726f53581c127acaf36f7af251055182ddfd9be4c0855c5996910e37b6d74da8:90326 satoshis\n",
      "4391e8c9c5706ab795de99ab80b01bcb74eae110fc794916a127985de13ec9c8:291212 satoshis\n",
      "3642ba74e80df7ac240de0d7bc5e87c5b55227df3786d5fdf2349093f3325e69:6867 satoshis\n",
      "c60675e484c858721ae468c8ee6154b72eb1e68ac708fc5badfaa2bb23ab4d26:25307 satoshis\n",
      "d5f61357793d127e6c01515029845bc6f88c0c9bf701460bf8cabd99cda71755:1369 satoshis\n",
      "4e4783571dc334914143213a29f1b656496e75e0b9a68509c379700467aaeccc:265757 satoshis\n",
      "b5a84f94b7a811125cf93162e9430be70794c8a9ba63fc226b47ce583c18f873:200000 satoshis\n",
      "84a8dd9c13f706e65aa7879c62fbea67d9074b1ea15c1d83cff6b58c31c4f260:308541 satoshis\n",
      "1fb9b3e5f3ee9b836b6345af40d18b8bcbdd16cc96baa5f98c234a03e6837f8f:14348 satoshis\n",
      "3459fb678bb47caee2b517f976d6fe9061bc2f192f57d351074bfce063c84cbf:9571 satoshis\n",
      "51d45e6ea0ffc3922d695e5be958ef068423740350e792b175cd0e0762e63ef2:24762 satoshis\n",
      "880e77b90642bee98cc6d1f410b8e3aef08ce5c480b8bcf107f1303c5f10ef64:161616 satoshis\n",
      "2ff424ae7cd8ce101cb17e6d3a81346948f6904cdd49d0b516894bea1d9d3497:212123 satoshis\n",
      "e13eaf9676a821b10c0d93f2632a216406afb5c150ff28523b8ab8e1516ad591:16958 satoshis\n",
      "e762424ea0f1212db92fc2d233d92cd694aad9906c08e1f4e6155427d6e34955:321500 satoshis\n",
      "3d5063027b2be075ae75eddec12437f77006f5c244013f4d494437af2801fc25:78360 satoshis\n",
      "699b07ba539b358254e6b7209c5974ec6b294f6ff6d6e6572934c86a2a9b8286:171277 satoshis\n",
      "5e62b6c86858a280efd03b8caafe58f7c6da4d80d579552144995561d8944404:19515 satoshis\n",
      "d9c854dad14cf120cc1d373824749481c2d157a9aa3dc78f556145db1a9ee09a:334400 satoshis\n",
      "8f0a481d7b2db57a404645607dc6dd4c7af1b0a14498324da68ab61a2dc9792a:17768 satoshis\n",
      "0b3cc425fc36c120dea68a9b58f875502d0f629ada980eca1bf80e95bc9d6975:7000 satoshis\n",
      "f651ff6568edbb51c238de1931cb2900547d508eb9723a095dfe52dffca685c0:330026 satoshis\n",
      "66eeec8dfa6ec0420c6910d3ad1e26f656c731d518f9978d897c202520c09ffc:421179 satoshis\n",
      "723bb3debf49fa4b6848f24515b9741a93675ea446d2b5f244a4b06d47eadc57:202608 satoshis\n",
      "933156500deabe0e3211d6fbca06358809c7c6b6fb47fff7cf623bb0cb99d09a:41800 satoshis\n",
      "ecdb8d4be70f0e442fce05c3c0f36fefaa0f943af6ce1611f1265e21264f4523:3462 satoshis\n",
      "f42d4137c83dd5b6e7d5a4f413d1ce407c3ebeda4390d28539fadeccacb4bfea:21186 satoshis\n",
      "79b3448766053104a45cfe02e1d44d1f9c35096b437e12c62bc7cbce7933a450:8333 satoshis\n",
      "a567c760a85739206d2f3b3adb5cca578258675bd8916b9c22e55b2fbef2d4a1:300000 satoshis\n",
      "4b506e7ff8f496c267e04400de581fdeda37ad95fc2c0d44ca04b4c908ac880a:74954 satoshis\n",
      "01499636a78f351ee4b48979b865a6c5d3efc2100e15a1fd61950c7f7c86035d:7557 satoshis\n",
      "34bf38069507d157b32a9a85dffe49ed38f2b2a38c3c203083f5b88277d709e7:49436 satoshis\n",
      "afad48b091c4cd6a226aa974eeb93f55aa4a770d9595a405e9f7f5b0bb4e7f9d:7930 satoshis\n",
      "5b14a2c8a38c76f822068302ea9e5e1bd67dce7fe7f153ce4224185fe4cdab06:10424 satoshis\n",
      "b8af832e17d08a643cda60b4cd99304d173989dda8b6dc263a8a4c76a6d260b7:41899 satoshis\n",
      "6a5c1b732c74213b3044373d607da769dcfcb3d023f40614e490145b239b1705:160000 satoshis\n",
      "656df4f13c3ebf924538db3ba781157a61777838ea1294fbea2bf370f9ea6247:68785 satoshis\n",
      "6918c3ca5fad931d6eb25c72ff156ca98f41b42eabeb2f30185adcf5a352f40a:4022 satoshis\n",
      "e1e23ad9c509ab284b3ac7c7906083e688faccb8091a5d7838dba7d376455141:10000 satoshis\n",
      "26cc85fc1f1f717b28a8bf597b74f51ddc724e7f812f985459fd971521635cc7:129773 satoshis\n",
      "7be862e46a0016dd23c98d96682ee16c35b57e50571d1db49c150d63112f7b4b:2334 satoshis\n",
      "6a0addf34348551290cc0715f40b5f4a9b973317c36b5df4a7e006ca4044223c:100000 satoshis\n",
      "10bdd597f1ad10205d0ef0e20a1371c6be3e27a51549d01dc9aa5e00d07fe19e:9331 satoshis\n",
      "3945778eebe1438da43d3f744f46f7d7d310837234c7a7e7d5676cefd7432bf1:10000 satoshis\n",
      "5945b4ab03c672566e377761122018f22c98bee6eca94e54724da6084381e6be:211090 satoshis\n",
      "0f037314c670c604ec03cb14329ad36abb5fa2b5997393efdceb26d5d7e20976:16867 satoshis\n",
      "393727aa268c2309d8600fcb6525e4ac32bead7159082b469131ccb86cacb57d:17971 satoshis\n",
      "193518cf5ab5d5cb3c8c8034386dbdb637b706ebfcd548616f63a513e106178b:20000 satoshis\n",
      "236e4babdd6f6e1465540ea4373c828154108e0d7e28c0f9ce5a37facfbb54ab:264000 satoshis\n",
      "e0de9e7e3e64f6466473200a5175d3bc27c5e0a2a20a84394fbe6fb80e6dba27:100000 satoshis\n",
      "2c8735a414fb94ff6ff0d70a19235f059c3b5e6a4db816ec2301c38e0be7280f:200000 satoshis\n",
      "ae7f2002a7edd1370160c8b9ad2f9d33eca33600547093339dd7e6995ba537ef:11493 satoshis\n",
      "49841ecd1cf92910d1977b43c95e4c8345e1f9de91f2c6a2920401415888bb9a:18068 satoshis\n",
      "a22de57b7b7f4f3710a76c672d87fee70b8914542226e01be9fd53cd4c17d1fd:26066 satoshis\n",
      "afc113b39a7ac5f6e8d66d53f210eb9fd0c889d3afd70f6418fcedb1a44ef0a8:19006 satoshis\n",
      "f308d3f0cc81d7ae9a51dd8a1a8ee996c7abbd11f97051cf916e453f8a27eabc:49408 satoshis\n",
      "92764ea60301b5c717ea2179e75556580a843d5b9760d987ead21a994d3682e3:240687 satoshis\n",
      "0197a1783cc39ece9c79f6fa81f7f6fb63f78735bf931f215d81eaa7fca766d2:2730 satoshis\n",
      "4704c4977c7b3081c7b543cc0929deb0204a5e651dbefaa8d0eebbb7583f1d79:600000 satoshis\n",
      "d89044ad06446e8e4ebb53e5198035bf95f097a2976de213a916fd2d77b8ad5e:600000 satoshis\n",
      "73ee76ac39015596c30f2eee2b58c978dcb40ea9cf25f0739610b907ebfb2884:10000 satoshis\n",
      "cf390d253423edcff8f52f1d017c6359ef6c613f587250fd2a6fac549e3882da:1197 satoshis\n",
      "4752977ef4372c7da40e4568739b58f996b93f160a208089109c286ae830506b:77797 satoshis\n",
      "7d5307f6bb069df12a408782eac8f9528d0c2773b6ec564fb7a99c342d4ad6a3:957 satoshis\n",
      "23f841abe7bf5272587f30999e46cc80726dc6404251cfbfc8af50dd8d69738a:330321 satoshis\n",
      "6babcf09696ce3ba084b753211fe244cf980ee5ce45de96d7d6123c9f6b2b36e:1033825 satoshis\n",
      "8f44d85dbcacdc10796abc942ed10f186487dee7b9bab8842c96da523c56ca4c:4000 satoshis\n",
      "65f016ff73a4ec7b0f64252a9cddac0df83a6176199922d7b714feea690e4ad6:186103 satoshis\n",
      "351bd28fa079ad0b012bc7af2bc7be94f282da48e657d56f64b51d83125756dc:49464 satoshis\n",
      "89e1229cd20cfa4b7f589a74e15b886320135b7f488ccaccbf4e4c07441baac9:99819 satoshis\n",
      "27b65ed90cc9889716260b937bd1d69a95e3b1f53b8b252493a27d7b5a753aa9:1094 satoshis\n",
      "685e5631488e32b31cbb6e17e222bf1a0c44194e9981d527a085b575033d4341:3000000 satoshis\n",
      "7db3c365e24a61c624f06f4cc9f4d1d4e4e8e61878b064cbf040cdc0136e7dc5:38034 satoshis\n",
      "f328b8291439b8e82d329b5b7002a3fbd763bad3fedee22d8ee9da2ea9960388:464083 satoshis\n",
      "6b08662d77b8daf35908afb3b6a7a50986ee2769d39dcccb4fa2939dcbee12d3:52887 satoshis\n",
      "72507f87f728a061d4b76c2f72427d5c5a6647973c6bf121477609958e28f9f0:9585 satoshis\n",
      "9248542445465004d1d961f2579c59a824041ffd0f9fd4378979d9b5866eaa1e:46887 satoshis\n",
      "e6fbcf30d3e63a58d7c52102303b14fd11a4379313edd84b11b2399a796e4fa8:51300 satoshis\n",
      "5fb1b359be6d8106c8e42a0a7276a36f101399a9dd8fcd77bfa3f99dd512f1cc:13084 satoshis\n",
      "a80a2b5849c4e7d8b3f0b62fe9df1ae8c07c92c7a23e67404e9e00acb05e6424:35570 satoshis\n",
      "464ef02d547140217de8015be5eb8730e988e1b5855417ded133ea52f265825f:11554 satoshis\n",
      "26d6de491ee14d1109c99a634b0c4c97dd88a2c8f993ecb0fc1cc1bcca1ab2b0:1299 satoshis\n",
      "c04563e6e09ef12ec4e516e0b1cd8983f60612e7519fc430146595de0f6856d8:156688 satoshis\n",
      "04f6f42ad3ef84348ab43f07e1e3729056573d84534dc4181e93a20aa644af25:19080 satoshis\n",
      "1139e65c46bcba0353a6057f0bcf99cc9a4db0d6b987cdaed0113355df253a09:211243 satoshis\n",
      "3d3fb5763ebf57f6d06d2148ee14e0e17652ec3bd26feec5f3f2ca287121bb8c:1000 satoshis\n",
      "f0df6a1e233625ee99f1a538e2209963afaecacbe9fb4ec8cd2556ffa5086a71:1010 satoshis\n",
      "7a12be74291a9da0bf3ee10a8aafac60233112bbad0f2ada1e8483809c04c097:2222 satoshis\n",
      "8bbda41bd83008baff10e147dbb57fdae72fd6e283633a406a48491ca3d9b87a:12906 satoshis\n",
      "23b393f9fb94dc2ecec27d5495193ce8e3a3795350f318ce263bfcecb6385de1:10666 satoshis\n",
      "9c8353d9faa6d6c74e7d65d3ea32942e574b18bc2af32c0a2d6e4a5159d62268:27329 satoshis\n",
      "a053a432346917c46c0b1831aef0b94d332ec707fedd49c1f7936500b2c9ad51:251549 satoshis\n"
     ]
    }
   ],
   "source": [
    "import json\n",
    "import requests\n",
    "\n",
    "address = \"3FkenCiXpSLqD8L79intRNXUgjRoH9sjXa\"\n",
    "\n",
    "res = requests.get(\"https://blockchain.info/unspent?active=\" + address)\n",
    "utxo_list = json.loads(res.text)[\"unspent_outputs\"]\n",
    "print(str(len(utxo_list)) + \"個のUTXOが見つかりました！ \")\n",
    "for utxo in utxo_list:\n",
    "    print(utxo[\"tx_hash\"] + \":\" + str(utxo[\"value\"]) + \" satoshis\") "
   ]
  },
  {
   "cell_type": "markdown",
   "metadata": {},
   "source": [
    "リスト10.8　リスト10.7 の出力結果（リスト10.8は、リスト10.7の出力結果をご覧ください）"
   ]
  },
  {
   "cell_type": "markdown",
   "metadata": {},
   "source": [
    "リスト10.9 コインベース取引の生データ"
   ]
  },
  {
   "cell_type": "markdown",
   "metadata": {},
   "source": [
    "01000000010000000000000000000000000000000000000000000000000000000000000000ffffffff0704cd2d011b0112ffffffff0100f2052a010000004341047b8d5e4b08e71b4e21edc71dc2b5040c0fc6cd1b8446500a95e44fce027d95d7bf74ad3f94e6068f2b94dd4daadcfffc7673044c71876b7e7061531b35b6a0a5ac00000000"
   ]
  },
  {
   "cell_type": "markdown",
   "metadata": {},
   "source": [
    "リスト10.10 JSON形式に変換"
   ]
  },
  {
   "cell_type": "code",
   "execution_count": null,
   "metadata": {},
   "outputs": [],
   "source": [
    "{\n",
    "  \"txid\": \"e7c6a5c20318e99e7a2fe7e9c534fae52d402ef6544afd85a0a1a22a8d09783a\",\n",
    "  \"hash\": \"e7c6a5c20318e99e7a2fe7e9c534fae52d402ef6544afd85a0a1a22a8d09783a\",\n",
    "  \"version\": 1,\n",
    "  \"size\": 134,\n",
    "  \"vsize\": 134,\n",
    "  \"weight\": 536,\n",
    "  \"locktime\": 0,\n",
    "  \"vin\": [\n",
    "    {\n",
    "      \"coinbase\": \"04cd2d011b0112\",\n",
    "      \"sequence\": 4294967295\n",
    "    }\n",
    "  ],\n",
    "  \"vout\": [\n",
    "    {\n",
    "      \"value\": 50.00000000,\n",
    "\n",
    "      \"n\": 0,\n",
    "      \"scriptPubKey\": {\n",
    "        \"asm\": \"047b8d5e4b08e71b4e21edc71dc2b5040c0fc6cd1b8446500a95e44fce027d95d7bf74ad3f94e6068f2b94dd4daadcfffc7673044c71876b7e7061531b35b6a0a5 OP_CHECKSIG\",\n",
    "        \"hex\": \"41047b8d5e4b08e71b4e21edc71dc2b5040c0fc6cd1b8446500a95e44fce027d95d7bf74ad3f94e6068f2b94dd4daadcfffc7673044c71876b7e7061531b35b6a0a5ac\",\n",
    "        \"reqSigs\": 1,\n",
    "        \"type\": \"pubkey\",\n",
    "        \"addresses\": [\n",
    "          \"1Jyv1RNBcfic1dQwDTRXNnsJ9Xxpvqcr27\"\n",
    "        ]\n",
    "      }\n",
    "    }\n",
    "  ]\n",
    "}"
   ]
  }
 ],
 "metadata": {
  "kernelspec": {
   "display_name": "Python 3 (ipykernel)",
   "language": "python",
   "name": "python3"
  },
  "language_info": {
   "codemirror_mode": {
    "name": "ipython",
    "version": 3
   },
   "file_extension": ".py",
   "mimetype": "text/x-python",
   "name": "python",
   "nbconvert_exporter": "python",
   "pygments_lexer": "ipython3",
   "version": "3.9.12"
  }
 },
 "nbformat": 4,
 "nbformat_minor": 2
}
