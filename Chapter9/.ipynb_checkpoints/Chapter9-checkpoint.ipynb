{
 "cells": [
  {
   "cell_type": "markdown",
   "metadata": {},
   "source": [
    "リスト9.1 マスターキーとマスターチェーンコードの生成（出力結果は実行のたびに変わります）"
   ]
  },
  {
   "cell_type": "code",
   "execution_count": 2,
   "metadata": {},
   "outputs": [
    {
     "name": "stdout",
     "output_type": "stream",
     "text": [
      "マスター秘密鍵\n",
      "b'caab9da1c7f1f0916c6ae3c4e3c5dd88406e3e85816cc23e2d0a4e029ca776a9'\n",
      "\n",
      "\n",
      "マスターチェーンコード\n",
      "b'e82713c01532efd326609ee517f91781aa1cdcea43810c345cc5a566ddd5eb03'\n",
      "\n",
      "\n",
      "マスター公開鍵\n",
      "b'03022a985b1dd0977fa1eda2096478f229bdcc6bca32dc49a2fda0cdf87e1070d2'\n"
     ]
    }
   ],
   "source": [
    "import os\n",
    "import binascii\n",
    "import ecdsa\n",
    "import hmac\n",
    "import hashlib\n",
    "seed = os.urandom(32)\n",
    "root_key = b\"Bitcoin seed\"\n",
    "def hmac_sha512(data, keymessage):\n",
    "    hash = hmac.new(data, keymessage, hashlib.sha512).digest()\n",
    "    return hash\n",
    "def create_pubkey(private_key):\n",
    "    publickey = ecdsa.SigningKey.from_string(private_key, curve=ecdsa.SECP256k1).verifying_key.to_string()\n",
    "    return publickey\n",
    "master = hmac_sha512(seed,root_key)\n",
    "master_secretkey = master[:32]\n",
    "master_chaincode = master[32:]\n",
    "\n",
    "master_publickey = create_pubkey(master_secretkey)\n",
    "master_publickey_integer = int.from_bytes(master_publickey[32:], byteorder=\"big\")\n",
    "\n",
    "# 圧縮公開鍵生成\n",
    "if master_publickey_integer % 2 == 0:\n",
    "    master_publickey_x = b\"\\x02\" + master_publickey[:32]\n",
    "else:\n",
    "    master_publickey_x = b\"\\x03\" + master_publickey[:32]\n",
    "\n",
    "# マスター秘密鍵\n",
    "print(\"マスター秘密鍵\")\n",
    "print(binascii.hexlify(master_secretkey))\n",
    "#マスターチェーンコード\n",
    "print(\"\\n\")\n",
    "print(\"マスターチェーンコード\")\n",
    "print(binascii.hexlify(master_chaincode))\n",
    "#マスター圧縮公開鍵\n",
    "print(\"\\n\")\n",
    "print(\"マスター公開鍵\")\n",
    "print(binascii.hexlify(master_publickey_x))\n"
   ]
  },
  {
   "cell_type": "markdown",
   "metadata": {},
   "source": [
    "リスト9.2 圧縮公開鍵の生成（リスト9.1の抜粋なので実行しません）"
   ]
  },
  {
   "cell_type": "code",
   "execution_count": null,
   "metadata": {},
   "outputs": [],
   "source": [
    "master_publickey_integer = int.from_bytes(master_publickey[32:], byteorder=\"big\")\n",
    "\n",
    "# 圧縮公開鍵生成\n",
    "if master_publickey_integer % 2 == 0:\n",
    "    master_publickey_x = b\"\\x02\" + master_publickey[:32]\n",
    "else:\n",
    "    master_publickey_x = b\"\\x03\" + master_publickey[:32]"
   ]
  },
  {
   "cell_type": "markdown",
   "metadata": {},
   "source": [
    "リスト9.3 リスト9.1 の出力結果（実行結果はリスト9.1の実行結果をご覧ください）"
   ]
  },
  {
   "cell_type": "markdown",
   "metadata": {},
   "source": [
    "リスト9.4 リスト9.1 に追加するコード（リスト9.1の出力結果は実行のたびに変わります）"
   ]
  },
  {
   "cell_type": "code",
   "execution_count": 2,
   "metadata": {},
   "outputs": [
    {
     "name": "stdout",
     "output_type": "stream",
     "text": [
      "マスター秘密鍵\n",
      "b'3b2cae65939511083171ae3be22546220eaa63837841abe3c609cea8c3152ad9'\n",
      "\n",
      "\n",
      "マスターチェーンコード\n",
      "b'3c8007072f93abbb98c870936e4dbc28218715965f28a4f0ac2bd2a4c02ba182'\n",
      "\n",
      "\n",
      "マスター公開鍵\n",
      "b'02af19714126fee4bcced8f709b11920c9729a1ab84b3feaeb1519237ee6cc51ed'\n",
      "\n",
      "\n",
      "子秘密鍵\n",
      "b'4f47dcb839cb63e7e51e3a0fdcd459d0a388bcb6eaa49ec90b59f67fce3dbe05'\n"
     ]
    }
   ],
   "source": [
    "import os\n",
    "import binascii\n",
    "import ecdsa\n",
    "import hmac\n",
    "import hashlib\n",
    "seed = os.urandom(32)\n",
    "root_key = b\"Bitcoin seed\"\n",
    "def hmac_sha512(data, keymessage):\n",
    "    hash = hmac.new(data, keymessage, hashlib.sha512).digest()\n",
    "    return hash\n",
    "def create_pubkey(private_key):\n",
    "    publickey = ecdsa.SigningKey.from_string(private_key, curve=ecdsa.SECP256k1).verifying_key.to_string()\n",
    "    return publickey\n",
    "master = hmac_sha512(seed,root_key)\n",
    "master_secretkey = master[:32]\n",
    "master_chaincode = master[32:]\n",
    "\n",
    "master_publickey = create_pubkey(master_secretkey)\n",
    "master_publickey_integer = int.from_bytes(master_publickey[32:], byteorder=\"big\")\n",
    "\n",
    "# 圧縮公開鍵の生成\n",
    "if master_publickey_integer % 2 == 0:\n",
    "    master_publickey_x = b\"\\x02\" + master_publickey[:32]\n",
    "else:\n",
    "    master_publickey_x = b\"\\x03\" + master_publickey[:32]\n",
    "\n",
    "# マスター秘密鍵\n",
    "print(\"マスター秘密鍵\")\n",
    "print(binascii.hexlify(master_secretkey))\n",
    "#マスターチェーンコード\n",
    "print(\"\\n\")\n",
    "print(\"マスターチェーンコード\")\n",
    "print(binascii.hexlify(master_chaincode))\n",
    "#マスター圧縮公開鍵\n",
    "print(\"\\n\")\n",
    "print(\"マスター公開鍵\")\n",
    "print(binascii.hexlify(master_publickey_x))\n",
    "\n",
    "index = 0\n",
    "index_bytes = index.to_bytes(8, \"big\")\n",
    "data = master_publickey_x + index_bytes\n",
    "result_hmac512 = hmac_sha512(data, master_chaincode)\n",
    "\n",
    "# 親秘密鍵とHMACSHA512の結果の前半部分を足し合わせる\n",
    "sum_integer = int.from_bytes(master_secretkey, \"big\") + \\\n",
    "int.from_bytes(result_hmac512[:32], \"big\")\n",
    "\n",
    "p = 2**256 - 2**32 - 2**9 - 2**8 - 2**7 - 2**6 - 2**4 - 1\n",
    "child_secretkey = (sum_integer % p).to_bytes(32, \"big\")\n",
    "\n",
    "# 子秘密鍵（マスターから見て1つ下の階層の秘密鍵）\n",
    "print(\"\\n\")\n",
    "print(\"子秘密鍵\")\n",
    "print(binascii.hexlify(child_secretkey))"
   ]
  }
 ],
 "metadata": {
  "kernelspec": {
   "display_name": "Python 3",
   "language": "python",
   "name": "python3"
  },
  "language_info": {
   "codemirror_mode": {
    "name": "ipython",
    "version": 3
   },
   "file_extension": ".py",
   "mimetype": "text/x-python",
   "name": "python",
   "nbconvert_exporter": "python",
   "pygments_lexer": "ipython3",
   "version": "3.6.9"
  }
 },
 "nbformat": 4,
 "nbformat_minor": 2
}
