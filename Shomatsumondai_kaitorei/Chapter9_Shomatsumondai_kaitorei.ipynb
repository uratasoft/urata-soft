{
 "cells": [
  {
   "cell_type": "code",
   "execution_count": 1,
   "metadata": {},
   "outputs": [],
   "source": [
    "# 問4\n",
    "\n",
    "import os\n",
    "import binascii\n",
    "import ecdsa\n",
    "import hmac\n",
    "import hashlib\n",
    "seed = os.urandom(32)\n",
    "root_key = b\"Bitcoin seed\"\n",
    "\n",
    "def hmac_sha512(data, keymessage):\n",
    "    hash = hmac.new(data, keymessage, hashlib.sha512).digest()\n",
    "    return hash\n",
    "\n",
    "def create_pubkey(private_key):\n",
    "    publickey = ecdsa.SigningKey.from_string(private_key, curve=ecdsa.SECP256k1).verifying_key.to_string()\n",
    "    return publickey\n",
    "\n",
    "master = hmac_sha512(seed,root_key)\n",
    "master_secretkey = master[:32]\n",
    "master_chaincode = master[32:]\n",
    "\n",
    "master_publickey = create_pubkey(master_secretkey)\n",
    "master_publickey_integer = int.from_bytes(master_publickey[32:], \"big\")\n",
    "\n",
    "if master_publickey_integer % 2 == 0:\n",
    "    master_publickey_x = b\"\\x02\" + master_publickey[:32]\n",
    "else:\n",
    "    master_publickey_x = b\"\\x03\" + master_publickey[:32]\n",
    "\n",
    "index = 0\n",
    "index_bytes = index.to_bytes(8, \"big\")\n",
    "data = master_publickey_x + index_bytes\n",
    "result_hmac512 = hmac_sha512(data, master_chaincode)\n",
    "\n",
    "sum_integer = int.from_bytes(master_secretkey, \"big\") + int.from_bytes(result_hmac512[:32], \"big\")\n",
    "p = 2**256 - 2**32 - 2**9 - 2**8 - 2**7 - 2**6 - 2**4 - 1\n",
    "child_secretkey = (sum_integer % p).to_bytes(32, \"big\")"
   ]
  },
  {
   "cell_type": "code",
   "execution_count": 2,
   "metadata": {},
   "outputs": [
    {
     "name": "stdout",
     "output_type": "stream",
     "text": [
      "b'02037528e308e24343e51f4385decc7168c8e6da3991c363dc5f9edf15d8a91cc3'\n"
     ]
    }
   ],
   "source": [
    "child_publickey = create_pubkey(child_secretkey)\n",
    "\n",
    "child_publickey_integer = int.from_bytes(child_publickey[32:], \"big\")\n",
    "\n",
    "if child_publickey_integer % 2 == 0:\n",
    "    child_publickey_x = b\"\\x02\" + child_publickey[:32]\n",
    "else:\n",
    "    child_publickey_x = b\"\\x03\" + child_publickey[:32]\n",
    "\n",
    "print(binascii.hexlify(child_publickey_x))"
   ]
  }
 ],
 "metadata": {
  "kernelspec": {
   "display_name": "Python 3",
   "language": "python",
   "name": "python3"
  },
  "language_info": {
   "codemirror_mode": {
    "name": "ipython",
    "version": 3
   },
   "file_extension": ".py",
   "mimetype": "text/x-python",
   "name": "python",
   "nbconvert_exporter": "python",
   "pygments_lexer": "ipython3",
   "version": "3.6.9"
  }
 },
 "nbformat": 4,
 "nbformat_minor": 2
}
