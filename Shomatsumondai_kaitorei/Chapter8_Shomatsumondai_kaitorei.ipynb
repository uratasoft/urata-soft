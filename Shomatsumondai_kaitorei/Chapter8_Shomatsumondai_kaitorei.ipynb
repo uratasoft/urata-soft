{
 "cells": [
  {
   "cell_type": "code",
   "execution_count": 1,
   "metadata": {},
   "outputs": [
    {
     "name": "stdout",
     "output_type": "stream",
     "text": [
      "b'\\x04\\xd8\\xe9-\\xe6n;\\xef\\x9a\\x9d\\xd1x\\x96Z\\xeb(Eh\\xb3mw<1\\x83AO\\xde-\\x80\\x0bo\\x01\\xc1J\\xfd\\xe1\\x92\\x9fp\\x1exOy#\\xf8V:\\x8e\\x8f\\xe5\\x02\\x81/\\xa6b\\xc6\\x18\\xf8*\\xad\\x84\\x97\\xa2\\x91'\n",
      "\n",
      "\n",
      "b'04d8e92de66e3bef9a9dd178965aeb284568b36d773c3183414fde2d800b6f01c14afde1929f701e784f7923f8563a8e8fe502812fa662c618f82aad8497a291'\n"
     ]
    }
   ],
   "source": [
    "# 問２\n",
    "# 秘密鍵は\"private key\"や\"secret key\"と訳されます。いずれも同じ意味です。\n",
    "\n",
    "import ecdsa\n",
    "import binascii\n",
    "\n",
    "secret_key = '01147afe0f4b6332feb1c45aad835c7f89fd272de42974acda47e1f145ac2d89'\n",
    "\n",
    "# bytes.fromhexは文字列をバイト列に変換するものです。本書では登場しませんでしたが、文字列として秘密鍵を与えた際に便利です。\n",
    "secret_key_bytes = bytes.fromhex(secret_key)\n",
    "\n",
    "public_key = ecdsa.SigningKey.from_string(secret_key_bytes, curve=ecdsa.SECP256k1).verifying_key.to_string()\n",
    "print(public_key)\n",
    "print('\\n')\n",
    "print(binascii.hexlify(public_key))"
   ]
  },
  {
   "cell_type": "code",
   "execution_count": 2,
   "metadata": {},
   "outputs": [
    {
     "name": "stdout",
     "output_type": "stream",
     "text": [
      "1EJPF8bVHhUAYXfPD8MM8tGZVUyKB8s2uh\n"
     ]
    }
   ],
   "source": [
    "#問3\n",
    "\n",
    "import ecdsa\n",
    "import hashlib\n",
    "import base58\n",
    "\n",
    "secret_key = '01147afe0f4b6332feb1c45aad835c7f89fd272de42974acda47e1f145ac2d89'\n",
    "\n",
    "# bytes.fromhexは文字列をバイト列に変換するものです。本書では登場しませんでしたが、文字列として秘密鍵を与えた際に便利です。\n",
    "secret_key_bytes = bytes.fromhex(secret_key)\n",
    "\n",
    "public_key = ecdsa.SigningKey.from_string(secret_key_bytes, curve=ecdsa.SECP256k1).verifying_key.to_string()\n",
    "\n",
    "prefix_and_pubkey = b\"\\x04\" + public_key\n",
    "intermediate = hashlib.sha256(prefix_and_pubkey).digest()\n",
    "ripemd160 = hashlib.new('ripemd160')\n",
    "ripemd160.update(intermediate)\n",
    "hash160 = ripemd160.digest()\n",
    "\n",
    "prefix_and_hash160 = b\"\\x00\" + hash160\n",
    "\n",
    "double_hash = hashlib.sha256(hashlib.sha256(prefix_and_hash160).digest()).digest()\n",
    "checksum = double_hash[:4]\n",
    "pre_address = prefix_and_hash160 + checksum\n",
    "address = base58.b58encode(pre_address)\n",
    "\n",
    "print(address.decode())"
   ]
  }
 ],
 "metadata": {
  "kernelspec": {
   "display_name": "Python 3",
   "language": "python",
   "name": "python3"
  },
  "language_info": {
   "codemirror_mode": {
    "name": "ipython",
    "version": 3
   },
   "file_extension": ".py",
   "mimetype": "text/x-python",
   "name": "python",
   "nbconvert_exporter": "python",
   "pygments_lexer": "ipython3",
   "version": "3.6.9"
  }
 },
 "nbformat": 4,
 "nbformat_minor": 2
}
