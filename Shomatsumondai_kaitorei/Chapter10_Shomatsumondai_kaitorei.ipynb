{
 "cells": [
  {
   "cell_type": "code",
   "execution_count": 1,
   "metadata": {},
   "outputs": [
    {
     "name": "stdout",
     "output_type": "stream",
     "text": [
      "61個のUTXOが見つかりました！ \n",
      "e5d46810d40a2bf726e5d1853c83539b84e44f2ebfe37d89d839ab6bd39c0082:1000000 satoshis\n",
      "ad5fff82ef304cab204377f22c55dbf8b110a244dc39a21aa684b5451ae972ab:100000 satoshis\n",
      "fa656f188d71676b1a22f51dd9854cbd4f1587146ef279a9cc4fd750e7c15ec4:1378453 satoshis\n",
      "ecba94baf0269d4785b70c6d0d0646e5cfa650efe65a7a55605b881e31f6efe9:3000000 satoshis\n",
      "77b2d967afba02ee745792f694bd38dcdadf3454f5c28b97e03972a82f2b47bf:101000 satoshis\n",
      "6bad9674decd9f25f8212a6a961578a654abc660e50b2f2e2970b2670adeafad:5000000 satoshis\n",
      "77fcf2dcde74d14862273d7539a3ef8b6ed7cfda214b6f8fccd1978058f7ce34:408079 satoshis\n",
      "bcca09ae89cd38eeb0d9d3ce8c6e1c5e5496540b54a0c2fcd9d29a7454bcfd57:374223 satoshis\n",
      "b8c6bda7400b9d205b1b124b7c31d8f6c1880507bd35044f2333926b884773db:1677000 satoshis\n",
      "59516eeb056c23f42a1d975f716f233a5fe4470bd5a68813eb417f7604bc071b:23000 satoshis\n",
      "4f2091b1012316981ea4e9df4430b4d58215082bab5c7033459842cb69bff492:1070000 satoshis\n",
      "5cc754f46ed9f5cfbcb9b6426c81f9950cf0ecf3f26e2a43f5c98e424e8c78b9:1000000 satoshis\n",
      "29a6ba17ab53929ca856b665fb9d114cd939f530a6bea715564884e788f1ddad:6374558 satoshis\n",
      "076fc4c2022af4affbca75fbbbecc849d4d4a11a163a5b4a00875d7245bed820:16000 satoshis\n",
      "db574a2ca9f980bcb26709101fab8011d6b32264004b76ad237118c8b5810503:14800 satoshis\n",
      "e0f6b1f4f1db221b14995c4d10833a48f69737d93e4eeafd2ca8a2fa56919d48:16997800 satoshis\n",
      "a54430142e77134f14062debbef83c84ff925c1c2090d10376e8b4cc26b95b07:50000 satoshis\n",
      "c5f57856f21ef3e6893b8b9e5ea6440791ef546535c669c1e71de4796a8a7671:16900 satoshis\n",
      "fd389a869bf3407c031da2a10031b8c4510f0a11a71c71b6d29ae324c3696ec4:163775 satoshis\n",
      "27c392162790b7bdf537505c8ee09bb08d9f7bf36fd8ab05ef4718de144faee9:100000 satoshis\n",
      "54fa28b44094b7dec792d00e7efcbc522938910ae9cbbffd19f989cfcd78b703:582568 satoshis\n",
      "466c57f3fa196d848fc6024c9e1120bc8e6d0c85e3a55aa745e4f4d5f50be473:10000000 satoshis\n",
      "e99c96415b3ffaf723b698f0e64a30a1054cd4f5c6b3971f7e1f257bd6af1ffc:103000 satoshis\n",
      "f3f5df3e679fd88a9d83d1723a76cf29c1ff12f3758050b6e3c770d98c9dda5f:100000 satoshis\n",
      "b2e384e5bc427b2e09586d4b5a0535254bddf8880185eda42fbb650095d8258b:86256 satoshis\n",
      "4bf35ff803b2497545d919b0bd322ef752f9cc0d1d85f13adb450550d0086543:83891 satoshis\n",
      "d58f2b6db10275f127abc377622e517758c5d72629dff18709c213dae0eac9b5:5610 satoshis\n",
      "14ddbc03d565c6d24004aee9b1b3aadcb34302248d4556201b70e7fb58781e85:78319 satoshis\n",
      "7124a53db53f41c16a51ae17e2d993939513194e2a48669a2626d7df76729651:100000 satoshis\n",
      "f2da085f981fc88f2e8dfa9644a79ce4666700d4c72cfc00fc853e5702f9a9e1:73622 satoshis\n",
      "73b894037dccfa2c02139b0c1f7d470ce14402a90f5d523b17b31410437e477e:100000 satoshis\n",
      "a6d916218fed1ca1b88f0a5729afb5392868f8de719cdb32b23dcffa3b8d7eb2:46422 satoshis\n",
      "fa99c1d065cf4490eada221b98dfef200eadad8f3dfa6e8dad8eab632206f8bb:20000 satoshis\n",
      "dde54a7f73ada053f760d621207dde1f3a306bad9f2f6c67b77cf1ee2ffb214f:32988 satoshis\n",
      "8ea9214a666b3b5ccf35cf82baeed0e45fb9593997ea10dcc7027fe26cc2dfb3:100000 satoshis\n",
      "2699bafda7d2abda97cf5e624cb6300ee4c53595c1747a980396c7132f389e10:100000 satoshis\n",
      "c35cc053b9060a6e14f763c0026507c16100658c179eb83c3fe0314192f21f95:100000 satoshis\n",
      "95911216f616c886a64894ebf83ac44098e76eedb57e93768e84d8d18be90698:100000 satoshis\n",
      "7bfea0a4f2a5fb31ba24b2114a6db8277efe9469a968cc68c5d36f5baf1fef77:50300 satoshis\n",
      "f84a8489ca9e7e1e3b8e4a6020c6cbbbdfbb26774b1a40083b12f37cc168f161:72674 satoshis\n",
      "ec09824d8aaf236fdd6a4aa97dda33ae08c6a1825018d63a77d5bd8d1a05cec5:100000 satoshis\n",
      "4c857fd63f8446c389f9a8a24a7b2abf165d5feae464b1bcfce37b485b038c2b:1000000 satoshis\n",
      "96ce5d7211a9409f03fc4e0f3519047887856d027673f882726eea04f120c7e7:45407 satoshis\n",
      "a75d29a93515bf047bdf813c857cabd77dd3606d2cdd58ef24b446e491f92b70:5000 satoshis\n",
      "5fea7bf5637851e64a166a7a6a98c1fef076917ac7719fd2544193be50620db0:50000 satoshis\n",
      "8d37223dc24cb2311fe8d471b1bd18aab04905bb21fa0fd0bf9ea2c6207d534b:100000 satoshis\n",
      "4c8150701a583e82b53e9bb6c06888a80168e4b6273276292d680dab26af5551:10933 satoshis\n",
      "d9603abe04b0011e4fafc24adfefb0d485fb35dfda478f92592335498ef9399b:4594 satoshis\n",
      "1f632b59d3eac407665f3d6ae52fbfe207f83bbbcc2948622ef80f803f5d376e:25000 satoshis\n",
      "941eb211d30df7b8e93fcac26952089cc9ffc2b6d3f80f9dcf465fd47dfe6180:312600 satoshis\n",
      "3070bf57d9c8cb4b73292faa4bc1c2d94e4055467fa98afe67967ad70f98a697:49758 satoshis\n",
      "50339cdd9731cc6a31511defa78047540bf87bc4209c7955702b5e8551dff40a:114968 satoshis\n",
      "9ca5cea8d75bcfd9804739e8d7837740b711c32449f15cc36616f6ac0ea7921e:4463 satoshis\n",
      "fb68fa720f00ff2f05692a376af25411ca08371b8df959b2c7ad1ca721a21ed7:20000 satoshis\n",
      "aac6ae5f7e781d16091d303b824c0ea4e9e3010e7dc259678f7c3ed7846c4a3e:7000 satoshis\n",
      "93e6fc6cce0cdde079e11bd56d94c4127986a47ec909db18531beed5e7fca9bd:4603528 satoshis\n",
      "a5d2f93a4b69794133db9465ce681471410359ad6d75d36bad1719599530f409:23132109 satoshis\n",
      "1ea0ec108a06986d70e3591b741d8a6450744523c17252119a93e73c1cea07c0:4784 satoshis\n",
      "891a68693758394b9ee22c781fedc60251e833a7dcd1de952492d0a9650dd0dc:5834 satoshis\n",
      "864c6610936947126de26b47ea5011d0e74b5147c71242eed606911fe5b1d23f:700 satoshis\n",
      "01107381f54043e9a56aa6e783861a8d34d1f14680276c4488f75f4446401f3f:1659 satoshis\n"
     ]
    }
   ],
   "source": [
    "# 問3\n",
    "\n",
    "import json\n",
    "import requests\n",
    "\n",
    "address = \"1RCJPNCX9xwhogzZ5XrKWDjpXF1qmSVXx\"\n",
    "res = requests.get(\"https://blockchain.info/unspent?active=\" + address)\n",
    "utxo_list = json.loads(res.text)[\"unspent_outputs\"]\n",
    "print(str(len(utxo_list)) + \"個のUTXOが見つかりました！ \")\n",
    "for utxo in utxo_list:\n",
    "    print(utxo[\"tx_hash\"] + \":\" + str(utxo[\"value\"]) + \" satoshis\")"
   ]
  }
 ],
 "metadata": {
  "kernelspec": {
   "display_name": "Python 3",
   "language": "python",
   "name": "python3"
  },
  "language_info": {
   "codemirror_mode": {
    "name": "ipython",
    "version": 3
   },
   "file_extension": ".py",
   "mimetype": "text/x-python",
   "name": "python",
   "nbconvert_exporter": "python",
   "pygments_lexer": "ipython3",
   "version": "3.6.9"
  }
 },
 "nbformat": 4,
 "nbformat_minor": 2
}
