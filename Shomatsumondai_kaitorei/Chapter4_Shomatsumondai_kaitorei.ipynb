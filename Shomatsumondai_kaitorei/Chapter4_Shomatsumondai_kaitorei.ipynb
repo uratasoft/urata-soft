{
 "cells": [
  {
   "cell_type": "code",
   "execution_count": 1,
   "metadata": {},
   "outputs": [
    {
     "name": "stdout",
     "output_type": "stream",
     "text": [
      "Gold\n",
      "Silver\n",
      "Bronze\n"
     ]
    }
   ],
   "source": [
    "# 問4\n",
    "\n",
    "l = [\"Gold\", \"Silver\", \"Bronze\"]\n",
    "for color in l:\n",
    "    print(color)"
   ]
  },
  {
   "cell_type": "code",
   "execution_count": 2,
   "metadata": {},
   "outputs": [
    {
     "name": "stdout",
     "output_type": "stream",
     "text": [
      "satoshi\n",
      "satoshi\n",
      "satoshi\n"
     ]
    }
   ],
   "source": [
    "# 問5\n",
    "\n",
    "num = 0\n",
    "while num < 3:\n",
    "    print(\"satoshi\")\n",
    "    num += 1"
   ]
  }
 ],
 "metadata": {
  "kernelspec": {
   "display_name": "Python 3",
   "language": "python",
   "name": "python3"
  },
  "language_info": {
   "codemirror_mode": {
    "name": "ipython",
    "version": 3
   },
   "file_extension": ".py",
   "mimetype": "text/x-python",
   "name": "python",
   "nbconvert_exporter": "python",
   "pygments_lexer": "ipython3",
   "version": "3.6.9"
  }
 },
 "nbformat": 4,
 "nbformat_minor": 2
}
