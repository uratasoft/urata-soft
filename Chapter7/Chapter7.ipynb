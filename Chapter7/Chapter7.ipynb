{
 "cells": [
  {
   "cell_type": "markdown",
   "metadata": {},
   "source": [
    "リスト7.1 「hello」をSHA-256でハッシュ化"
   ]
  },
  {
   "cell_type": "code",
   "execution_count": 1,
   "metadata": {},
   "outputs": [
    {
     "name": "stdout",
     "output_type": "stream",
     "text": [
      "2cf24dba5fb0a30e26e83b2ac5b9e29e1b161e5c1fa7425e73043362938b9824\n"
     ]
    }
   ],
   "source": [
    "import hashlib\n",
    "\n",
    "hash_hello = hashlib.sha256(b\"hello\").hexdigest()\n",
    "\n",
    "print(hash_hello)"
   ]
  },
  {
   "cell_type": "markdown",
   "metadata": {},
   "source": [
    "リスト7.2 「hello」をSHA-256でハッシュ化"
   ]
  },
  {
   "cell_type": "code",
   "execution_count": 2,
   "metadata": {},
   "outputs": [
    {
     "name": "stdout",
     "output_type": "stream",
     "text": [
      "2cf24dba5fb0a30e26e83b2ac5b9e29e1b161e5c1fa7425e73043362938b9824\n",
      "d3751d33f9cd5049c4af2b462735457e4d3baf130bcbb87f389e349fbaeb20b9\n"
     ]
    }
   ],
   "source": [
    "import hashlib\n",
    "\n",
    "hash_hello = hashlib.sha256(b\"hello\").hexdigest()\n",
    "hash_hallo = hashlib.sha256(b\"hallo\").hexdigest()\n",
    "print(hash_hello)\n",
    "print(hash_hallo)"
   ]
  },
  {
   "cell_type": "markdown",
   "metadata": {},
   "source": [
    "リスト7.3 さまざまなフレーズをSHA-256でハッシュ化"
   ]
  },
  {
   "cell_type": "code",
   "execution_count": 3,
   "metadata": {},
   "outputs": [
    {
     "name": "stdout",
     "output_type": "stream",
     "text": [
      "2cf24dba5fb0a30e26e83b2ac5b9e29e1b161e5c1fa7425e73043362938b9824\n",
      "d3751d33f9cd5049c4af2b462735457e4d3baf130bcbb87f389e349fbaeb20b9\n",
      "7509e5bda0c762d2bac7f90d758b5b2263fa01ccbc542ab5e3df163be08e6ca9\n"
     ]
    }
   ],
   "source": [
    "import hashlib\n",
    "\n",
    "hash_hello = hashlib.sha256(b\"hello\").hexdigest()\n",
    "hash_hallo = hashlib.sha256(b\"hallo\").hexdigest()\n",
    "hash_helloworld = hashlib.sha256(b\"hello world!\").hexdigest()\n",
    "\n",
    "print(hash_hello)\n",
    "print(hash_hallo)\n",
    "print(hash_helloworld)"
   ]
  }
 ],
 "metadata": {
  "kernelspec": {
   "display_name": "Python 3",
   "language": "python",
   "name": "python3"
  },
  "language_info": {
   "codemirror_mode": {
    "name": "ipython",
    "version": 3
   },
   "file_extension": ".py",
   "mimetype": "text/x-python",
   "name": "python",
   "nbconvert_exporter": "python",
   "pygments_lexer": "ipython3",
   "version": "3.6.9"
  }
 },
 "nbformat": 4,
 "nbformat_minor": 2
}
