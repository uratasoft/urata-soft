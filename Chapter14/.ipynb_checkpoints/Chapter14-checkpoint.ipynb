{
 "cells": [
  {
   "cell_type": "markdown",
   "metadata": {},
   "source": [
    "リスト14.1 get_retarget_bitsメソッド"
   ]
  },
  {
   "cell_type": "code",
   "execution_count": 1,
   "metadata": {},
   "outputs": [],
   "source": [
    "def get_retarget_bits(self):\n",
    "        if len(self.chain) == 0 or len(self.chain) % 5 != 0:\n",
    "            return -1\n",
    "        expected_time = 140 * 5\n",
    "\n",
    "        if len(self.chain) != 5:\n",
    "            first_block = self.chain[-(1 + 5)]\n",
    "        else:\n",
    "            first_block = self.chain[0]\n",
    "\n",
    "        last_block = self.chain[-1]\n",
    "        \n",
    "        first_time = first_block.timestamp.timestamp()\n",
    "        last_time = last_block.timestamp.timestamp()\n",
    "        \n",
    "        total_time = last_time - first_time\n",
    "        \n",
    "        target = last_block.calc_target()\n",
    "        delta = total_time / expected_time\n",
    "        if delta < 0.25:\n",
    "            delta = 0.25\n",
    "        if delta > 4:\n",
    "            delta = 4\n",
    "        new_target = int(target * delta)\n",
    "        \n",
    "        exponent_bytes = (last_block.bits >> 24) - 3\n",
    "        exponent_bits = exponent_bytes * 8\n",
    "        temp_bits = new_target >> exponent_bits\n",
    "        if temp_bits != temp_bits & 0xffffff: # 大きすぎ\n",
    "            exponent_bytes += 1\n",
    "            exponent_bits += 8\n",
    "        elif temp_bits == temp_bits & 0xffff: # 小さすぎ\n",
    "            exponent_bytes -= 1\n",
    "            exponent_bits -= 8\n",
    "        return ((exponent_bytes + 3) << 24) | (new_target >> exponent_bits)\n"
   ]
  },
  {
   "cell_type": "markdown",
   "metadata": {},
   "source": [
    "リスト14.2 難易度調整の要不要のジャッジ"
   ]
  },
  {
   "cell_type": "code",
   "execution_count": null,
   "metadata": {},
   "outputs": [],
   "source": [
    "if len(self.chain) == 0 or len(self.chain) % 5 != 0:\n",
    "    return -1"
   ]
  },
  {
   "cell_type": "markdown",
   "metadata": {},
   "source": [
    "リスト14.3 マイニングの所要時間の計算"
   ]
  },
  {
   "cell_type": "code",
   "execution_count": null,
   "metadata": {},
   "outputs": [],
   "source": [
    "if len(self.chain) != 5:\n",
    "    first_block = self.chain[-(1 + 5)]\n",
    "else:\n",
    "    first_block = self.chain[0]\n",
    "last_block = self.chain[-1]\n",
    "\n",
    "first_time = first_block.timestamp.timestamp()\n",
    "last_time = last_block.timestamp.timestamp()\n",
    "\n",
    "total_time = last_time - first_time"
   ]
  },
  {
   "cell_type": "markdown",
   "metadata": {},
   "source": [
    "リスト14.4 難易度調整の上限と下限を計算"
   ]
  },
  {
   "cell_type": "code",
   "execution_count": null,
   "metadata": {},
   "outputs": [],
   "source": [
    "target = last_block.calc_target()\n",
    "delta = total_time / expected_time\n",
    "if delta < 0.25:\n",
    "    delta = 0.25\n",
    "if delta > 4:\n",
    "    delta = 4\n",
    "new_target = int(target * delta)"
   ]
  },
  {
   "cell_type": "markdown",
   "metadata": {},
   "source": [
    "リスト14.5 新しいbitsの計算"
   ]
  },
  {
   "cell_type": "code",
   "execution_count": null,
   "metadata": {},
   "outputs": [],
   "source": [
    "exponent_bytes = (last_block.bits >> 24) - 3\n",
    "exponent_bits = exponent_bytes * 8\n",
    "temp_bits = new_target >> exponent_bits\n",
    "if temp_bits != temp_bits & 0xffffff: # 大きすぎ\n",
    "    exponent_bytes += 1\n",
    "    exponent_bits += 8\n",
    "elif temp_bits == temp_bits & 0xffff: # 小さすぎ\n",
    "    exponent_bytes -= 1\n",
    "    exponent_bits -= 8\n",
    "return ((exponent_bytes + 3) << 24) | (new_target >> exponent_bits)"
   ]
  },
  {
   "cell_type": "markdown",
   "metadata": {},
   "source": [
    "リスト14.6 exponentの計算"
   ]
  },
  {
   "cell_type": "code",
   "execution_count": null,
   "metadata": {},
   "outputs": [],
   "source": [
    "exponent_bytes = (last_block.bits >> 24) - 3\n",
    "exponent_bits = exponent_bytes * 8"
   ]
  },
  {
   "cell_type": "markdown",
   "metadata": {},
   "source": [
    "リスト14.7 temp_bitsの大きさの確認"
   ]
  },
  {
   "cell_type": "code",
   "execution_count": null,
   "metadata": {},
   "outputs": [],
   "source": [
    "if temp_bits != temp_bits & 0xffffff: # 大きすぎ"
   ]
  },
  {
   "cell_type": "markdown",
   "metadata": {},
   "source": [
    "リスト14.8 新しいbitsの計算"
   ]
  },
  {
   "cell_type": "code",
   "execution_count": null,
   "metadata": {},
   "outputs": [],
   "source": [
    "return ((exponent_bytes + 3) << 24) | (new_target >> exponent_bits)"
   ]
  },
  {
   "cell_type": "markdown",
   "metadata": {},
   "source": [
    "リスト14.9 難易度調整のadd_newblockメソッドへの組み込み"
   ]
  },
  {
   "cell_type": "code",
   "execution_count": null,
   "metadata": {},
   "outputs": [],
   "source": [
    "def add_newblock(self, i):\n",
    "    last_block = self.chain[-1]\n",
    "    new_bits = self.get_retarget_bits()\n",
    "\n",
    "    if new_bits < 0:\n",
    "        bits = last_block.bits\n",
    "    else:\n",
    "        bits = new_bits\n",
    "\n",
    "    block = Block(i+1, last_block.block_hash, \"ブロック \" + str(i+1), datetime.datetime.now(), bits)\n",
    "    self.mining(block)"
   ]
  },
  {
   "cell_type": "markdown",
   "metadata": {},
   "source": [
    "リスト14.10　難易度調整の処理の組み込み"
   ]
  },
  {
   "cell_type": "code",
   "execution_count": null,
   "metadata": {},
   "outputs": [],
   "source": [
    "if new_bits < 0:\n",
    "    bits = last_block.bits\n",
    "else:\n",
    "    bits = new_bits"
   ]
  },
  {
   "cell_type": "markdown",
   "metadata": {},
   "source": [
    "リスト14.11　トランザクションデータ"
   ]
  },
  {
   "cell_type": "code",
   "execution_count": null,
   "metadata": {},
   "outputs": [],
   "source": [
    "[\n",
    "\"e7c6a5c20318e99e7a2fe7e9c534fae52d402ef6544afd85a0a1a22a8d09783a\",\n",
    "\"3fe7ac92b9d20c9b5fb1ba21008b41eb1208af50a7021694f7f73fd37e914b67\",\n",
    "\"b3a37d774cd5f15be1ee472e8c877bcc54ab8ea00f25d34ef11e76a17ecbb67c\",\n",
    "\"dcc75a59bcee8a4617b8f0fc66d1444fea3574addf9ed1e0631ae85ff6c65939\",\n",
    "\"59639ffc15ef30860d11da02733c2f910c43e600640996ee17f0b12fd0cb51e9\",\n",
    "\"0e942bb178dbf7ae40d36d238d559427429641689a379fc43929f15275a75fa6\",\n",
    "\"5ea33197f7b956644d75261e3c03eefeeea43823b3de771e92371f3d630d4c56\",\n",
    "\"55696d0a3686df2eb51aae49ca0a0ae42043ea5591aa0b6d755020bdb64887f6\",\n",
    "\"2255724fd367389c2aabfff9d5eb51d08eda0d7fed01f3f9d0527693572c08f6\",\n",
    "\"c8329c18492c5f6ee61eb56dab52576b1de48bbb1d7f6aa7f0387f9b3b63722e\",\n",
    "\"34b7f053f77406456676fdd3d1e4ac858b69b54daf3949806c2c92ca70d3b88d\"\n",
    "]\n"
   ]
  },
  {
   "cell_type": "markdown",
   "metadata": {},
   "source": [
    "リスト14.12　マークルルートの算出"
   ]
  },
  {
   "cell_type": "code",
   "execution_count": 2,
   "metadata": {},
   "outputs": [
    {
     "name": "stdout",
     "output_type": "stream",
     "text": [
      "45ce9219fbff637dbe398f21c765081c511d54b9758755875e764f488c21cfc2\n"
     ]
    }
   ],
   "source": [
    "import hashlib\n",
    "\n",
    "def sha256(data):\n",
    "    return hashlib.sha256(data.encode()).hexdigest()\n",
    "\n",
    "class MerkleTree():\n",
    "    def __init__(self, tx_list):\n",
    "        self.tx_list = tx_list\n",
    "\n",
    "    def calc_merkleroot(self):\n",
    "        txs = self.tx_list\n",
    "        if len(txs) == 1:\n",
    "            return txs[0]\n",
    "        while len(txs) > 1:\n",
    "            if len(txs) % 2 == 1:\n",
    "                txs.append(txs[-1])\n",
    "            hashes = []\n",
    "            for i in range(0, len(txs), 2):\n",
    "                hashes.append(sha256(\"\".join(txs[i:i + 2])))\n",
    "            txs = hashes\n",
    "        return txs[0]\n",
    "\n",
    "if __name__ == \"__main__\":\n",
    "    txs = [\n",
    "        \"e7c6a5c20318e99e7a2fe7e9c534fae52d402ef6544afd85a0a1a22a8d09783a\",\n",
    "        \"3fe7ac92b9d20c9b5fb1ba21008b41eb1208af50a7021694f7f73fd37e914b67\",\n",
    "        \"b3a37d774cd5f15be1ee472e8c877bcc54ab8ea00f25d34ef11e76a17ecbb67c\",\n",
    "        \"dcc75a59bcee8a4617b8f0fc66d1444fea3574addf9ed1e0631ae85ff6c65939\",\n",
    "        \"59639ffc15ef30860d11da02733c2f910c43e600640996ee17f0b12fd0cb51e9\",\n",
    "        \"0e942bb178dbf7ae40d36d238d559427429641689a379fc43929f15275a75fa6\",\n",
    "        \"5ea33197f7b956644d75261e3c03eefeeea43823b3de771e92371f3d630d4c56\",\n",
    "        \"55696d0a3686df2eb51aae49ca0a0ae42043ea5591aa0b6d755020bdb64887f6\",\n",
    "        \"2255724fd367389c2aabfff9d5eb51d08eda0d7fed01f3f9d0527693572c08f6\",\n",
    "        \"c8329c18492c5f6ee61eb56dab52576b1de48bbb1d7f6aa7f0387f9b3b63722e\",\n",
    "        \"34b7f053f77406456676fdd3d1e4ac858b69b54daf3949806c2c92ca70d3b88d\"\n",
    "    ]\n",
    "\n",
    "    mt = MerkleTree(txs)\n",
    "\n",
    "    print(mt.calc_merkleroot())"
   ]
  },
  {
   "cell_type": "markdown",
   "metadata": {},
   "source": [
    "リスト14.13　リスト14.12 の実行結果（リスト14.12の出力結果を参照してください）"
   ]
  },
  {
   "cell_type": "markdown",
   "metadata": {},
   "source": [
    "リスト14.14：calc_merklerootメソッド"
   ]
  },
  {
   "cell_type": "code",
   "execution_count": null,
   "metadata": {},
   "outputs": [],
   "source": [
    "def calc_merkleroot(self):\n",
    "    txs = self.tx_list\n",
    "    if len(txs) == 1:\n",
    "        return txs[0]\n",
    "    while len(txs) > 1:\n",
    "        if len(txs) % 2 == 1:\n",
    "            txs.append(txs[-1])\n",
    "        hashes = []\n",
    "        for i in range(0, len(txs), 2):\n",
    "            hashes.append(sha256(\"\".join(txs[i:i + 2])))\n",
    "        txs = hashes\n",
    "    return txs[0]"
   ]
  },
  {
   "cell_type": "markdown",
   "metadata": {},
   "source": [
    "リスト14.15　calc_merklerootメソッドのwhile処理部分"
   ]
  },
  {
   "cell_type": "code",
   "execution_count": null,
   "metadata": {},
   "outputs": [],
   "source": [
    "while len(txs) > 1:\n",
    "    if len(txs) % 2 == 1:\n",
    "        txs.appenad(txs[-1])\n",
    "    hashes = []\n",
    "    for i in range(0, len(txs), 2):\n",
    "        hashes.append(sha256(\"\".join(txs[i:i + 2])))\n",
    "    txs = hashes"
   ]
  },
  {
   "cell_type": "markdown",
   "metadata": {},
   "source": [
    "リスト14.16　calc_merklerootメソッドにおけるハッシュ計算"
   ]
  },
  {
   "cell_type": "code",
   "execution_count": null,
   "metadata": {},
   "outputs": [],
   "source": [
    "for i in range(0, len(txs), 2):\n",
    "    hashes.append(sha256(\"\".join(txs[i:i + 2])))"
   ]
  }
 ],
 "metadata": {
  "kernelspec": {
   "display_name": "Python 3",
   "language": "python",
   "name": "python3"
  },
  "language_info": {
   "codemirror_mode": {
    "name": "ipython",
    "version": 3
   },
   "file_extension": ".py",
   "mimetype": "text/x-python",
   "name": "python",
   "nbconvert_exporter": "python",
   "pygments_lexer": "ipython3",
   "version": "3.6.9"
  }
 },
 "nbformat": 4,
 "nbformat_minor": 2
}
