{
 "cells": [
  {
   "cell_type": "markdown",
   "metadata": {},
   "source": [
    "リスト11.1 少しずつ値を変えた時のハッシュ値の計算"
   ]
  },
  {
   "cell_type": "code",
   "execution_count": 1,
   "metadata": {},
   "outputs": [
    {
     "name": "stdout",
     "output_type": "stream",
     "text": [
      "satoshi0 → 4f9f790663d4a6cdb46c5636c7553f6239a2eca03194bb8e704c47718670faa0\n",
      "satoshi1 → 0952ab89f7cb3010a3048adcbd58b43c9e82c61622ac2d8893ff7c568f55c0bf\n",
      "satoshi2 → 43c1badd8834f74a03471ef4f51e2d9f69c4fb9bbb476aeb2bd6ac4e41432aa1\n",
      "satoshi3 → b8a25eafd4a22ba5d4510cfd5afe628a3497e42cd18bf8d35e736c260d967a27\n",
      "satoshi4 → be36eed769f4fa336843a5808bda6ef029d5cc9a917e14bb38f6d740cefc29ac\n",
      "satoshi5 → 1db1ebb2c528d0527b609b27c1d363f057e64d0c6e045dda339c860d726b23d8\n",
      "satoshi6 → 445cb342afee90ebbd82490006a54f70646e1be201961d849c033bbaf36dcba1\n",
      "satoshi7 → 8dabdf2893aa4693f36da21a5a32ddbf944f1a7e405c5c5ce30cdfa2458b99e4\n",
      "satoshi8 → ca35ad0c5f723110b34510b7396614f4d0b4a94081db918252009a53cf830da6\n",
      "satoshi9 → 659edacbf0973449d9e1b3fa5c47f15411acd7ffa52a8d334dd1c7fd546a4cd5\n",
      "satoshi10 → 7388c143e1d4a951fb684798f39c30136019624eb8a339e176c4fd6bae4f01ef\n",
      "satoshi11 → 7ad1b4eb050e4538e9fde9ee378ce7f979bd922d1e6ba9576c6ee5ac63648739\n",
      "satoshi12 → 18d541974dd684ae87f69f18debafed9bd44ab50b76d27b5175ec580524681f0\n",
      "satoshi13 → 6633993ec7430ef4ce49d2a541d40fd5a3fb4069128d3626661bd75114909ad5\n",
      "satoshi14 → cc53b18c134fc60dd99e8d7b6025996b3e782045f8effb3d0a68992fbd65c2b3\n",
      "satoshi15 → e22d46cf55a0b046cf0743da9a014b9c3bd9b50b30085cbd0edb1648d483f4fe\n",
      "satoshi16 → b66b71f3127b4bde44ca8007ad3ae52a56060e8877de2b7b6fa6d0d53d412f3c\n",
      "satoshi17 → 1289e0fa01d44d5d11a4c79a1508308c46d8e270898524312eb8325bdc73bb80\n",
      "satoshi18 → 288e50d9d3ecdb9cce7ba388080d7adf01e91dfade6ba78ee5f31c7642135c5d\n",
      "satoshi19 → a4d8586fdc9529f56a53236f54f78b57b7538ccd08dca50f327ca15d82ef05f6\n"
     ]
    }
   ],
   "source": [
    "import hashlib\n",
    "\n",
    "input_text = \"satoshi\"\n",
    "\n",
    "for nonce in range(20):\n",
    "    input_data = input_text + str(nonce)\n",
    "    hash = hashlib.sha256(input_data.encode(\"UTF-8\")).hexdigest()\n",
    "    print(input_data + \" → \" + hash)"
   ]
  },
  {
   "cell_type": "markdown",
   "metadata": {},
   "source": [
    "リスト11.2 少しずつ値を変えた時のハッシュ値の計算（リスト11.2はリスト11.1の出力結果をご覧ください）"
   ]
  },
  {
   "cell_type": "markdown",
   "metadata": {},
   "source": [
    "リスト11.3 Difficulty bitsからTargetを計算"
   ]
  },
  {
   "cell_type": "code",
   "execution_count": 2,
   "metadata": {},
   "outputs": [
    {
     "name": "stdout",
     "output_type": "stream",
     "text": [
      "824528581084176575145518374651615721673290736390910993533830975258099712\n",
      "0000777777000000000000000000000000000000000000000000000000000000\n"
     ]
    }
   ],
   "source": [
    "# difficulty_bits = 0x1e777777\n",
    "# exponent = 0x1e\n",
    "# coefficient = 0x777777\n",
    "\n",
    "target = 0x777777 * 2**(8*(0x1e - 0x03))\n",
    "print(target)\n",
    "\n",
    "# 10進数→16進数\n",
    "target_hex = hex(target)[2:].zfill(64)\n",
    "print(target_hex)"
   ]
  },
  {
   "cell_type": "markdown",
   "metadata": {},
   "source": [
    "リスト11.4 リスト11.3 の出力結果（リスト11.4はリスト11.3の出力結果をご覧ください）"
   ]
  },
  {
   "cell_type": "markdown",
   "metadata": {},
   "source": [
    "リスト11.5　簡易的なProof of Workの実装"
   ]
  },
  {
   "cell_type": "code",
   "execution_count": 1,
   "metadata": {},
   "outputs": [
    {
     "name": "stdout",
     "output_type": "stream",
     "text": [
      "Block Hash: 0000145f739cf0536649fe385c9528d5c3786696c0b52172827bcb0c6a4fd766\n",
      "Previous Hash: 0000000000000000000000000000000000000000000000000000000000000000\n",
      "index: 1\n",
      "Data: Block 1\n",
      "Nonce: 2961844095\n",
      "--------------\n",
      "Block Hash: 0000176c37da63b6114c18008df3ff0975f9881b7d6f7923da61e0195b5387ae\n",
      "Previous Hash: 0000145f739cf0536649fe385c9528d5c3786696c0b52172827bcb0c6a4fd766\n",
      "index: 2\n",
      "Data: Block 2\n",
      "Nonce: 4239501321\n",
      "--------------\n",
      "Block Hash: 00004b4ccebb56f8babad59fc5f68c709b8e3b3f21fcab250ff9437ec8cc2714\n",
      "Previous Hash: 0000176c37da63b6114c18008df3ff0975f9881b7d6f7923da61e0195b5387ae\n",
      "index: 3\n",
      "Data: Block 3\n",
      "Nonce: 560605870\n",
      "--------------\n",
      "Block Hash: 000033c56771fbd4974611dfbdf61cc3683315bc20df488bac30203f34e56daf\n",
      "Previous Hash: 00004b4ccebb56f8babad59fc5f68c709b8e3b3f21fcab250ff9437ec8cc2714\n",
      "index: 4\n",
      "Data: Block 4\n",
      "Nonce: 4668243625\n",
      "--------------\n",
      "Block Hash: 0000248287c0af0f708d898418f335a6b1e60b8a26c52fe9e6effbba4bf622da\n",
      "Previous Hash: 000033c56771fbd4974611dfbdf61cc3683315bc20df488bac30203f34e56daf\n",
      "index: 5\n",
      "Data: Block 5\n",
      "Nonce: 658790551\n",
      "--------------\n",
      "Block Hash: 00003ab7d140cafd90419412078e76db9eedaf6f934d2f67bef96da5a408401d\n",
      "Previous Hash: 0000248287c0af0f708d898418f335a6b1e60b8a26c52fe9e6effbba4bf622da\n",
      "index: 6\n",
      "Data: Block 6\n",
      "Nonce: 17200395075\n",
      "--------------\n",
      "Block Hash: 000018eea69aea3cfc56068c98843669f4b0c5d8dac650ce8a35a02bc75900be\n",
      "Previous Hash: 00003ab7d140cafd90419412078e76db9eedaf6f934d2f67bef96da5a408401d\n",
      "index: 7\n",
      "Data: Block 7\n",
      "Nonce: 10288018846\n",
      "--------------\n",
      "Block Hash: 000041c3e5f9db15dcd0d54e95f264d914830b1a163f26a1f2b7492f04a7fd27\n",
      "Previous Hash: 000018eea69aea3cfc56068c98843669f4b0c5d8dac650ce8a35a02bc75900be\n",
      "index: 8\n",
      "Data: Block 8\n",
      "Nonce: 10768294881\n",
      "--------------\n",
      "Block Hash: 000044edbd5178a992c8105edc8ce59a9644ee586a915a002f7bc8aaa2608eca\n",
      "Previous Hash: 000041c3e5f9db15dcd0d54e95f264d914830b1a163f26a1f2b7492f04a7fd27\n",
      "index: 9\n",
      "Data: Block 9\n",
      "Nonce: 17321164750\n",
      "--------------\n",
      "Block Hash: 00001630663fcc5b2a30fc40d8ae8e10e5ed7bccb312a54ca47ccb44b2ea15ee\n",
      "Previous Hash: 000044edbd5178a992c8105edc8ce59a9644ee586a915a002f7bc8aaa2608eca\n",
      "index: 10\n",
      "Data: Block 10\n",
      "Nonce: 1187330815\n",
      "--------------\n",
      "Block Hash: 00003e52074317536162527382f308f7db0963917cc84cfd3f9feb6194af687d\n",
      "Previous Hash: 00001630663fcc5b2a30fc40d8ae8e10e5ed7bccb312a54ca47ccb44b2ea15ee\n",
      "index: 11\n",
      "Data: Block 11\n",
      "Nonce: 2942710686\n",
      "--------------\n",
      "Block Hash: 000034535ae3f279e3c8028741abb28017f1e7d4fad28344b598717844699753\n",
      "Previous Hash: 00003e52074317536162527382f308f7db0963917cc84cfd3f9feb6194af687d\n",
      "index: 12\n",
      "Data: Block 12\n",
      "Nonce: 21086672841\n",
      "--------------\n",
      "Block Hash: 0000295e08cf5b68ac5d3cd2d065d54cff32ccfd3c3a2416fb5abf5b66968b28\n",
      "Previous Hash: 000034535ae3f279e3c8028741abb28017f1e7d4fad28344b598717844699753\n",
      "index: 13\n",
      "Data: Block 13\n",
      "Nonce: 21956544235\n",
      "--------------\n",
      "Block Hash: 0000628d87859b7b922c3f881056f044cc8bdf5246d557d99a38db40eeb572e8\n",
      "Previous Hash: 0000295e08cf5b68ac5d3cd2d065d54cff32ccfd3c3a2416fb5abf5b66968b28\n",
      "index: 14\n",
      "Data: Block 14\n",
      "Nonce: 69260565\n",
      "--------------\n",
      "Block Hash: 000066030229a4ddb19eed361e656385368166e2409c20105234ac9c058f77fd\n",
      "Previous Hash: 0000628d87859b7b922c3f881056f044cc8bdf5246d557d99a38db40eeb572e8\n",
      "index: 15\n",
      "Data: Block 15\n",
      "Nonce: 22035617346\n",
      "--------------\n",
      "Block Hash: 000039b7cd9d97ddce15348f31a11673e2074a93d5551bad595ba23e0c2ee634\n",
      "Previous Hash: 000066030229a4ddb19eed361e656385368166e2409c20105234ac9c058f77fd\n",
      "index: 16\n",
      "Data: Block 16\n",
      "Nonce: 740874771\n",
      "--------------\n",
      "Block Hash: 00001e9d6af63c295ccc548f3cad2092c0d3ca9e8e749b30b2ecaf643ff7e6e2\n",
      "Previous Hash: 000039b7cd9d97ddce15348f31a11673e2074a93d5551bad595ba23e0c2ee634\n",
      "index: 17\n",
      "Data: Block 17\n",
      "Nonce: 8080573501\n",
      "--------------\n",
      "Block Hash: 00002e098a7e440daf9d59304dac02c946c112cd8d14dcef08c85f74ac382dd7\n",
      "Previous Hash: 00001e9d6af63c295ccc548f3cad2092c0d3ca9e8e749b30b2ecaf643ff7e6e2\n",
      "index: 18\n",
      "Data: Block 18\n",
      "Nonce: 26401011\n",
      "--------------\n",
      "Block Hash: 000012b04c509254387032a7d4a08443ba516ea6cc0d70c1ac6d16df45bb3690\n",
      "Previous Hash: 00002e098a7e440daf9d59304dac02c946c112cd8d14dcef08c85f74ac382dd7\n",
      "index: 19\n",
      "Data: Block 19\n",
      "Nonce: 1802130630\n",
      "--------------\n",
      "Block Hash: 000018dacf3d64b24816341b48e036f5a4dadadbb628f9fed99600a3007280ca\n",
      "Previous Hash: 000012b04c509254387032a7d4a08443ba516ea6cc0d70c1ac6d16df45bb3690\n",
      "index: 20\n",
      "Data: Block 20\n",
      "Nonce: 18234865935\n",
      "--------------\n",
      "Block Hash: 00000e8320b3ffc912c27bb9b39f35a9a2a57875c1124a6ec303bce4686df5c8\n",
      "Previous Hash: 000018dacf3d64b24816341b48e036f5a4dadadbb628f9fed99600a3007280ca\n",
      "index: 21\n",
      "Data: Block 21\n",
      "Nonce: 434078380\n",
      "--------------\n",
      "Block Hash: 00006cefd6dad721e7d8438dd8f860d0cddbf4db174ae9aeea8aae081c2412ab\n",
      "Previous Hash: 00000e8320b3ffc912c27bb9b39f35a9a2a57875c1124a6ec303bce4686df5c8\n",
      "index: 22\n",
      "Data: Block 22\n",
      "Nonce: 48713385\n",
      "--------------\n",
      "Block Hash: 000002072b3f662ce1d0cb940b0f23d0d33a7e4242bc9ec9eaf76206abc94dd7\n",
      "Previous Hash: 00006cefd6dad721e7d8438dd8f860d0cddbf4db174ae9aeea8aae081c2412ab\n",
      "index: 23\n",
      "Data: Block 23\n",
      "Nonce: 53243513326\n",
      "--------------\n",
      "Block Hash: 0000459e9a612cf1f71cdc60c197587328c26038e720540c73fea358564ea2fa\n",
      "Previous Hash: 000002072b3f662ce1d0cb940b0f23d0d33a7e4242bc9ec9eaf76206abc94dd7\n",
      "index: 24\n",
      "Data: Block 24\n",
      "Nonce: 7791951030\n",
      "--------------\n",
      "Block Hash: 000044b86a9ce6ec3e0fa1fe5805c2e7fb96f32af18ae2b8134609a3f3fd75a0\n",
      "Previous Hash: 0000459e9a612cf1f71cdc60c197587328c26038e720540c73fea358564ea2fa\n",
      "index: 25\n",
      "Data: Block 25\n",
      "Nonce: 1414135971\n",
      "--------------\n",
      "Block Hash: 00000a497ee4e2d97e18421e781131bb36c388d6e2c576c3cceffc42d3066488\n",
      "Previous Hash: 000044b86a9ce6ec3e0fa1fe5805c2e7fb96f32af18ae2b8134609a3f3fd75a0\n",
      "index: 26\n",
      "Data: Block 26\n",
      "Nonce: 401025360\n",
      "--------------\n",
      "Block Hash: 000059bf1f221cf1e9be6c2eb065153a9b2b5a1c5ee117f889f4142396ed3356\n",
      "Previous Hash: 00000a497ee4e2d97e18421e781131bb36c388d6e2c576c3cceffc42d3066488\n",
      "index: 27\n",
      "Data: Block 27\n",
      "Nonce: 177313400265\n",
      "--------------\n",
      "Block Hash: 00004126f45e03a0e68f2084de5b770fdfdcb26720e45d7e986058166019fd10\n",
      "Previous Hash: 000059bf1f221cf1e9be6c2eb065153a9b2b5a1c5ee117f889f4142396ed3356\n",
      "index: 28\n",
      "Data: Block 28\n",
      "Nonce: 170044461\n",
      "--------------\n",
      "Block Hash: 00004558fa7ed8f3c7e14974676a560011a40de5cdba614c4664d759e9652ca2\n",
      "Previous Hash: 00004126f45e03a0e68f2084de5b770fdfdcb26720e45d7e986058166019fd10\n",
      "index: 29\n",
      "Data: Block 29\n",
      "Nonce: 13654524885\n",
      "--------------\n",
      "Block Hash: 0000125ecd5ebe530d3ea30bf3a5439f6d9a30187d857e58f6080ad4ec58dccc\n",
      "Previous Hash: 00004558fa7ed8f3c7e14974676a560011a40de5cdba614c4664d759e9652ca2\n",
      "index: 30\n",
      "Data: Block 30\n",
      "Nonce: 99736626\n",
      "--------------\n"
     ]
    },
    {
     "data": {
      "text/plain": [
       "'\\nfor s in range(len(hashchain.chain)):\\n    print(hashchain.chain[s])\\n'"
      ]
     },
     "execution_count": 1,
     "metadata": {},
     "output_type": "execute_result"
    }
   ],
   "source": [
    "import hashlib\n",
    "\n",
    "class Block():\n",
    "    def __init__(self, data, prev_hash):\n",
    "        self.index = 0\n",
    "        self.nonce = 0\n",
    "        self.prev_hash = prev_hash\n",
    "        self.data = data\n",
    "\n",
    "    def blockhash(self):\n",
    "        blockheader = str(self.index) + str(self.prev_hash) + str(self.data) + str(self.nonce)\n",
    "        block_hash = hashlib.sha256(blockheader.encode()).hexdigest()\n",
    "        return block_hash\n",
    "\n",
    "    def __str__(self):\n",
    "        return \"Block Hash: \" + self.blockhash() + \"\\nPrevious Hash: \" + self.prev_hash + \"\\nindex: \" + str(self.index) + \"\\nData: \" + str(self.data) + \"\\nNonce: \" + str(self.nonce) + \"\\n--------------\"\n",
    "\n",
    "class Hashchain():\n",
    "    def __init__(self):\n",
    "        self.chain = [\"0000000000000000000000000000000000000000000000000000000000000000\"]\n",
    "\n",
    "    def add(self, hash):\n",
    "        self.chain.append(hash)\n",
    "\n",
    "hashchain = Hashchain()\n",
    "target = 0x777777 * 2**(8*(0x1e - 0x03)) # bits = 1e777777　の場合のターゲットの算出\n",
    "\n",
    "for i in range(30): # 全部で30個のブロックをマイニング\n",
    "    block = Block(\"Block \" + str(i+1), hashchain.chain[-1]) # ブロックの情報をデータとしてインスタンス化\n",
    "    block.index = block.index + i + 1 # インデックスを設定\n",
    "    for n in range(4294967296): # 2**32をナンスの上限としてナンスの計算を繰り返します。\n",
    "        block.nonce = block.nonce + n # ナンスの更新を行っています\n",
    "        if int(block.blockhash(), 16) < target: # ターゲットよりもハッシュ値が小さくなると条件クリア\n",
    "            print(block)\n",
    "            hashchain.add(block.blockhash())\n",
    "            break\n",
    "\n",
    "\"\"\"\n",
    "for s in range(len(hashchain.chain)):\n",
    "    print(hashchain.chain[s])\n",
    "\"\"\""
   ]
  },
  {
   "cell_type": "markdown",
   "metadata": {},
   "source": [
    "リスト11.6 blockhashメソッド"
   ]
  },
  {
   "cell_type": "code",
   "execution_count": null,
   "metadata": {},
   "outputs": [],
   "source": [
    "    def blockhash(self):\n",
    "        blockheader = str(self.index) + str(self.prev_hash) + str(self.data) + str(self.nonce)\n",
    "        block_hash = hashlib.sha256(blockheader.encode()).hexdigest()\n",
    "        return block_hash"
   ]
  },
  {
   "cell_type": "markdown",
   "metadata": {},
   "source": [
    "リスト11.7 マイニング処理の実装"
   ]
  },
  {
   "cell_type": "code",
   "execution_count": null,
   "metadata": {},
   "outputs": [],
   "source": [
    "for i in range(30): \n",
    "    block = Block(\"Block \" + str(i+1), hashchain.chain[-1]) \n",
    "    block.index = block.index + i + 1\n",
    "    for n in range(4294967296): \n",
    "        block.nonce = block.nonce + n\n",
    "        if int(block.blockhash(), 16) < target:\n",
    "            print(block)\n",
    "            hashchain.add(block.blockhash())\n",
    "            break"
   ]
  },
  {
   "cell_type": "markdown",
   "metadata": {},
   "source": [
    "リスト11.8 ハッシュ値とターゲットの比較"
   ]
  },
  {
   "cell_type": "code",
   "execution_count": null,
   "metadata": {},
   "outputs": [],
   "source": [
    "if int(block.blockhash(), 16) < target:"
   ]
  }
 ],
 "metadata": {
  "kernelspec": {
   "display_name": "Python 3",
   "language": "python",
   "name": "python3"
  },
  "language_info": {
   "codemirror_mode": {
    "name": "ipython",
    "version": 3
   },
   "file_extension": ".py",
   "mimetype": "text/x-python",
   "name": "python",
   "nbconvert_exporter": "python",
   "pygments_lexer": "ipython3",
   "version": "3.6.9"
  }
 },
 "nbformat": 4,
 "nbformat_minor": 2
}
