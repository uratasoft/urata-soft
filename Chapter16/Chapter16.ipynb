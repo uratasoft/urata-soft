{
 "cells": [
  {
   "cell_type": "markdown",
   "metadata": {},
   "source": [
    "ターミナル実行コマンド一覧（ターミナルで実行してください）"
   ]
  },
  {
   "cell_type": "code",
   "execution_count": null,
   "metadata": {},
   "outputs": [],
   "source": [
    "ssh -i （キーペア名）.pem  ec2-user@（IPv4パブリックIP）\n",
    "\n",
    "chmod 400 （キーペア名）.pem\n",
    "\n",
    "curl -O https://bitcoin.org/bin/bitcoin-core-0.18.0/bitcoin-0.18.0-x86_64-linux-gnu.tar.gz\n",
    "\n",
    "tar zxvf bitcoin-0.18.0-x86_64-linux-gnu.tar.gz\n",
    "\n",
    "sudo install -m 0755 -o root -g root -t /usr/local/bin bitcoin-0.18.0/bin/*\n",
    "\n",
    "mkdir .bitcoin\n",
    "cd .bitcoin\n",
    "touch bitcoin.conf\n",
    "\n",
    "vim bitcoin.conf\n",
    "\n",
    "mainnet=1\n",
    "txindex=1\n",
    "server=1\n",
    "debug=1\n",
    "rpcuser=好きなユーザー名\n",
    "rpcpassword=好きなパスワード\n",
    "rpcport=8332\n",
    "\n",
    "testnet=3\n",
    "txindex=1\n",
    "server=1\n",
    "debug=1\n",
    "rpcuser=好きなユーザー名\n",
    "rpcpassword=好きなパスワード\n",
    "rpcport=18332\n",
    "\n",
    "bitcoind -daemon\n",
    "\n",
    "bitcoin-cli stop\n",
    "\n",
    "bitcoin-cli getblockcount\n",
    "\n",
    "bitcoin-cli getblockchaininfo\n",
    "\n",
    "bitcoin-cli getconnectioncount\n",
    "\n",
    "bitcoin-cli help\n",
    "\n",
    "bitcoin-cli getrawtransaction  {トランザクションID}\n",
    "\n",
    "bitcoin-cli getrawtransaction 0e942bb178dbf7ae40d36d238d559427429641689a379fc43929f15275a75fa6\n",
    "\n",
    "bitcoin-cli decoderawtransaction {トランザクションの16進数データ}\n",
    "\n",
    "bitcoin-cli getblock 000000000000679c158c35a47eecb6352402baeedd22d0385b7c9d14a922f218"
   ]
  },
  {
   "cell_type": "markdown",
   "metadata": {},
   "source": [
    "リスト16.1（取得結果なので実行しません）"
   ]
  },
  {
   "cell_type": "code",
   "execution_count": null,
   "metadata": {},
   "outputs": [],
   "source": [
    "{\n",
    "  \"hash\": \"000000000000679c158c35a47eecb6352402baeedd22d0385b7c9d14a922f218\",\n",
    "  \"confirmations\": 466925,\n",
    "  \"strippedsize\": 3202,\n",
    "  \"size\": 3202,\n",
    "  \"weight\": 12808,\n",
    "  \"height\": 111111,\n",
    "  \"version\": 1,\n",
    "  \"versionHex\": \"00000001\",\n",
    "  \"merkleroot\": \"a09442e76a15a77694b31c20a105ff5e2000ee4ec4d7db42ecec1b56e041da32\",\n",
    "  \"tx\": [\n",
    "\"e7c6a5c20318e99e7a2fe7e9c534fae52d402ef6544afd85a0a1a22a8d09783a\",\n",
    "\"3fe7ac92b9d20c9b5fb1ba21008b41eb1208af50a7021694f7f73fd37e914b67\",\n",
    "\"b3a37d774cd5f15be1ee472e8c877bcc54ab8ea00f25d34ef11e76a17ecbb67c\",\n",
    "\"dcc75a59bcee8a4617b8f0fc66d1444fea3574addf9ed1e0631ae85ff6c65939\",\n",
    "\"59639ffc15ef30860d11da02733c2f910c43e600640996ee17f0b12fd0cb51e9\",\n",
    "\"0e942bb178dbf7ae40d36d238d559427429641689a379fc43929f15275a75fa6\",\n",
    "\"5ea33197f7b956644d75261e3c03eefeeea43823b3de771e92371f3d630d4c56\", \"55696d0a3686df2eb51aae49ca0a0ae42043ea5591aa0b6d755020bdb64887f6\", \"2255724fd367389c2aabfff9d5eb51d08eda0d7fed01f3f9d0527693572c08f6\", \"c8329c18492c5f6ee61eb56dab52576b1de48bbb1d7f6aa7f0387f9b3b63722e\",\n",
    "\"34b7f053f77406456676fdd3d1e4ac858b69b54daf3949806c2c92ca70d3b88d\"\n",
    "  ],\n",
    "  \"time\": 1298920129,\n",
    "  \"mediantime\": 1298915637,\n",
    "  \"nonce\": 1118842632,\n",
    "  \"bits\": \"1b012dcd\",\n",
    "  \"difficulty\": 55589.51812686866,\n",
    "  \"chainwork\": \"000000000000000000000000000000000000000000000000160d7f846af97ab0\",\n",
    "  \"nTx\": 11,\n",
    "  \"previousblockhash\": \"00000000000032f45710e7abd343e6450b9dec2684876852929f6f54184fff18\",\n",
    "  \"nextblockhash\": \"0000000000011d5533cc761e36eab351a92593dfd16c4c16b9076a4928c5c864\"\n",
    "}"
   ]
  }
 ],
 "metadata": {
  "kernelspec": {
   "display_name": "Python 3",
   "language": "python",
   "name": "python3"
  },
  "language_info": {
   "codemirror_mode": {
    "name": "ipython",
    "version": 3
   },
   "file_extension": ".py",
   "mimetype": "text/x-python",
   "name": "python",
   "nbconvert_exporter": "python",
   "pygments_lexer": "ipython3",
   "version": "3.6.9"
  }
 },
 "nbformat": 4,
 "nbformat_minor": 2
}
